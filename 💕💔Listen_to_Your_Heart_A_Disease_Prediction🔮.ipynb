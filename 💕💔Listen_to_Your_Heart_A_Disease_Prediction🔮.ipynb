{
  "cells": [
    {
      "cell_type": "markdown",
      "metadata": {
        "id": "view-in-github",
        "colab_type": "text"
      },
      "source": [
        "<a href=\"https://colab.research.google.com/github/RaoMasood1/Listen_to_Your_Heart_A_Disease_Prediction/blob/main/%F0%9F%92%95%F0%9F%92%94Listen_to_Your_Heart_A_Disease_Prediction%F0%9F%94%AE.ipynb\" target=\"_parent\"><img src=\"https://colab.research.google.com/assets/colab-badge.svg\" alt=\"Open In Colab\"/></a>"
      ]
    },
    {
      "cell_type": "code",
      "execution_count": 1,
      "metadata": {
        "id": "6gUbOb5w8PG9"
      },
      "outputs": [],
      "source": [
        "import numpy as np\n",
        "import pandas as pd\n",
        "import matplotlib.pyplot as plt"
      ]
    },
    {
      "cell_type": "code",
      "execution_count": 2,
      "metadata": {
        "id": "f4ML9RhS-Cuj"
      },
      "outputs": [],
      "source": [
        "from sklearn.neighbors import KNeighborsClassifier\n",
        "from sklearn.tree import DecisionTreeClassifier\n",
        "from sklearn.ensemble import RandomForestClassifier"
      ]
    },
    {
      "cell_type": "code",
      "source": [
        "!pip install category_encoders\n",
        "!pip install eli5"
      ],
      "metadata": {
        "colab": {
          "base_uri": "https://localhost:8080/"
        },
        "id": "f5mTiFyB_3cx",
        "outputId": "a4e2883c-9f7e-4b55-b9ec-ec9a0a79afab"
      },
      "execution_count": 6,
      "outputs": [
        {
          "output_type": "stream",
          "name": "stdout",
          "text": [
            "Collecting category_encoders\n",
            "  Downloading category_encoders-2.6.1-py2.py3-none-any.whl (81 kB)\n",
            "\u001b[?25l     \u001b[90m━━━━━━━━━━━━━━━━━━━━━━━━━━━━━━━━━━━━━━━━\u001b[0m \u001b[32m0.0/81.9 kB\u001b[0m \u001b[31m?\u001b[0m eta \u001b[36m-:--:--\u001b[0m\r\u001b[2K     \u001b[90m━━━━━━━━━━━━━━━━━━━━━━━━━━━━━━━━━━━━━━━━\u001b[0m \u001b[32m81.9/81.9 kB\u001b[0m \u001b[31m3.2 MB/s\u001b[0m eta \u001b[36m0:00:00\u001b[0m\n",
            "\u001b[?25hRequirement already satisfied: numpy>=1.14.0 in /usr/local/lib/python3.10/dist-packages (from category_encoders) (1.22.4)\n",
            "Requirement already satisfied: scikit-learn>=0.20.0 in /usr/local/lib/python3.10/dist-packages (from category_encoders) (1.2.2)\n",
            "Requirement already satisfied: scipy>=1.0.0 in /usr/local/lib/python3.10/dist-packages (from category_encoders) (1.10.1)\n",
            "Requirement already satisfied: statsmodels>=0.9.0 in /usr/local/lib/python3.10/dist-packages (from category_encoders) (0.13.5)\n",
            "Requirement already satisfied: pandas>=1.0.5 in /usr/local/lib/python3.10/dist-packages (from category_encoders) (1.5.3)\n",
            "Requirement already satisfied: patsy>=0.5.1 in /usr/local/lib/python3.10/dist-packages (from category_encoders) (0.5.3)\n",
            "Requirement already satisfied: python-dateutil>=2.8.1 in /usr/local/lib/python3.10/dist-packages (from pandas>=1.0.5->category_encoders) (2.8.2)\n",
            "Requirement already satisfied: pytz>=2020.1 in /usr/local/lib/python3.10/dist-packages (from pandas>=1.0.5->category_encoders) (2022.7.1)\n",
            "Requirement already satisfied: six in /usr/local/lib/python3.10/dist-packages (from patsy>=0.5.1->category_encoders) (1.16.0)\n",
            "Requirement already satisfied: joblib>=1.1.1 in /usr/local/lib/python3.10/dist-packages (from scikit-learn>=0.20.0->category_encoders) (1.3.1)\n",
            "Requirement already satisfied: threadpoolctl>=2.0.0 in /usr/local/lib/python3.10/dist-packages (from scikit-learn>=0.20.0->category_encoders) (3.2.0)\n",
            "Requirement already satisfied: packaging>=21.3 in /usr/local/lib/python3.10/dist-packages (from statsmodels>=0.9.0->category_encoders) (23.1)\n",
            "Installing collected packages: category_encoders\n",
            "Successfully installed category_encoders-2.6.1\n",
            "Collecting eli5\n",
            "  Downloading eli5-0.13.0.tar.gz (216 kB)\n",
            "\u001b[2K     \u001b[90m━━━━━━━━━━━━━━━━━━━━━━━━━━━━━━━━━━━━━━━\u001b[0m \u001b[32m216.2/216.2 kB\u001b[0m \u001b[31m5.6 MB/s\u001b[0m eta \u001b[36m0:00:00\u001b[0m\n",
            "\u001b[?25h  Preparing metadata (setup.py) ... \u001b[?25l\u001b[?25hdone\n",
            "Requirement already satisfied: attrs>17.1.0 in /usr/local/lib/python3.10/dist-packages (from eli5) (23.1.0)\n",
            "Requirement already satisfied: jinja2>=3.0.0 in /usr/local/lib/python3.10/dist-packages (from eli5) (3.1.2)\n",
            "Requirement already satisfied: numpy>=1.9.0 in /usr/local/lib/python3.10/dist-packages (from eli5) (1.22.4)\n",
            "Requirement already satisfied: scipy in /usr/local/lib/python3.10/dist-packages (from eli5) (1.10.1)\n",
            "Requirement already satisfied: six in /usr/local/lib/python3.10/dist-packages (from eli5) (1.16.0)\n",
            "Requirement already satisfied: scikit-learn>=0.20 in /usr/local/lib/python3.10/dist-packages (from eli5) (1.2.2)\n",
            "Requirement already satisfied: graphviz in /usr/local/lib/python3.10/dist-packages (from eli5) (0.20.1)\n",
            "Requirement already satisfied: tabulate>=0.7.7 in /usr/local/lib/python3.10/dist-packages (from eli5) (0.9.0)\n",
            "Requirement already satisfied: MarkupSafe>=2.0 in /usr/local/lib/python3.10/dist-packages (from jinja2>=3.0.0->eli5) (2.1.3)\n",
            "Requirement already satisfied: joblib>=1.1.1 in /usr/local/lib/python3.10/dist-packages (from scikit-learn>=0.20->eli5) (1.3.1)\n",
            "Requirement already satisfied: threadpoolctl>=2.0.0 in /usr/local/lib/python3.10/dist-packages (from scikit-learn>=0.20->eli5) (3.2.0)\n",
            "Building wheels for collected packages: eli5\n",
            "  Building wheel for eli5 (setup.py) ... \u001b[?25l\u001b[?25hdone\n",
            "  Created wheel for eli5: filename=eli5-0.13.0-py2.py3-none-any.whl size=107729 sha256=21879b0a5ddff1de9df262789fddbd504fa3d7b159d51d151386fcbfc9ee823e\n",
            "  Stored in directory: /root/.cache/pip/wheels/b8/58/ef/2cf4c306898c2338d51540e0922c8e0d6028e07007085c0004\n",
            "Successfully built eli5\n",
            "Installing collected packages: eli5\n",
            "Successfully installed eli5-0.13.0\n"
          ]
        }
      ]
    },
    {
      "cell_type": "code",
      "source": [
        "import category_encoders as ce\n",
        "import eli5\n",
        "from eli5.sklearn import PermutationImportance"
      ],
      "metadata": {
        "id": "7ayepb-PACfO"
      },
      "execution_count": 7,
      "outputs": []
    },
    {
      "cell_type": "code",
      "execution_count": 3,
      "metadata": {
        "id": "2FZVCnf1CdyN"
      },
      "outputs": [],
      "source": [
        "df=pd.read_csv('/content/💕💔Listen to Your Heart A Disease Prediction🔮.csv')"
      ]
    },
    {
      "cell_type": "code",
      "execution_count": 4,
      "metadata": {
        "id": "ukeCO3xDCmAU"
      },
      "outputs": [],
      "source": [
        "x=df.iloc[:,:-1]\n",
        "y=df.iloc[:,-1].values"
      ]
    },
    {
      "cell_type": "code",
      "execution_count": 5,
      "metadata": {
        "colab": {
          "base_uri": "https://localhost:8080/"
        },
        "id": "X_UXby93DVd0",
        "outputId": "100b6466-feff-4238-a880-640cb42063dd"
      },
      "outputs": [
        {
          "output_type": "stream",
          "name": "stdout",
          "text": [
            "     age  sex  cp  trestbps  chol  fbs  restecg  thalach  exang  oldpeak  \\\n",
            "0     63    1   3       145   233    1        0      150      0      2.3   \n",
            "1     37    1   2       130   250    0        1      187      0      3.5   \n",
            "2     41    0   1       130   204    0        0      172      0      1.4   \n",
            "3     56    1   1       120   236    0        1      178      0      0.8   \n",
            "4     57    0   0       120   354    0        1      163      1      0.6   \n",
            "..   ...  ...  ..       ...   ...  ...      ...      ...    ...      ...   \n",
            "298   57    0   0       140   241    0        1      123      1      0.2   \n",
            "299   45    1   3       110   264    0        1      132      0      1.2   \n",
            "300   68    1   0       144   193    1        1      141      0      3.4   \n",
            "301   57    1   0       130   131    0        1      115      1      1.2   \n",
            "302   57    0   1       130   236    0        0      174      0      0.0   \n",
            "\n",
            "     slope  ca  thal  \n",
            "0        0   0     1  \n",
            "1        0   0     2  \n",
            "2        2   0     2  \n",
            "3        2   0     2  \n",
            "4        2   0     2  \n",
            "..     ...  ..   ...  \n",
            "298      1   0     3  \n",
            "299      1   0     3  \n",
            "300      1   2     3  \n",
            "301      1   1     3  \n",
            "302      1   1     2  \n",
            "\n",
            "[303 rows x 13 columns]\n"
          ]
        }
      ],
      "source": [
        "print(x)"
      ]
    },
    {
      "cell_type": "code",
      "execution_count": null,
      "metadata": {
        "colab": {
          "base_uri": "https://localhost:8080/"
        },
        "id": "b090q4CxDZcW",
        "outputId": "2b461552-269b-4dd3-98b1-412a9ac5abfd"
      },
      "outputs": [
        {
          "name": "stdout",
          "output_type": "stream",
          "text": [
            "[1 1 1 1 1 1 1 1 1 1 1 1 1 1 0 1 1 1 1 1 0 1 1 0 1 1 1 1 1 1 1 1 1 0 1 1 1\n",
            " 1 0 1 1 1 1 0 1 1 1 1 1 1 1 1 1 1 1 1 0 0 1 1 1 1 0 1 0 1 1 1 1 1 0 0 1 0\n",
            " 1 1 0 0 0 0 0 0 1 0 1 0 0 0 0 0 0 0 0 1 0 0 0 0 0 0 0 0 0 0 0 1 0 0 0 0 1\n",
            " 0 0 1 0 0 0 0 0 1 0 0 0 0 1 0 1 0 0 0 0 0 0 0 0 0 0 0 0 0 1 0 0 0 1 0 0 0\n",
            " 1 0 1 0 0 0 0 0 0 0 0 0 0 0 0 1 1 1 0 1 0 0 0 0 0 0 0 0 0 0 0 0 0 1 1 1 1\n",
            " 1 1 1 0 0 0 0 0 0 1 1 0 0 0 0 0 0 0 0 0 0 0 0 0 0 0 0 0 1 0 0 0 1 0 0 1 0\n",
            " 0 0 0 0 0 0 0 0 1 0 0 0 0 0 0 0 0 0 0 0 0 0 0 0 1 0 0 0 0 0 0 0 0 0 0 0 0\n",
            " 0 0 0 1 0 0 0 1 0 0 0 0 0 0 0 0 0 0 0 0 0 0 0 0 0 0 0 0 0 0 0 0 0 0 0 0 0\n",
            " 0 0 0]\n"
          ]
        }
      ],
      "source": [
        "print(y)"
      ]
    },
    {
      "cell_type": "code",
      "source": [
        "df.isnull().sum()"
      ],
      "metadata": {
        "colab": {
          "base_uri": "https://localhost:8080/"
        },
        "id": "GZbroFqHAVSg",
        "outputId": "c65b4043-efa4-4ab1-c9de-a2e5a5e477bd"
      },
      "execution_count": 8,
      "outputs": [
        {
          "output_type": "execute_result",
          "data": {
            "text/plain": [
              "age         0\n",
              "sex         0\n",
              "cp          0\n",
              "trestbps    0\n",
              "chol        0\n",
              "fbs         0\n",
              "restecg     0\n",
              "thalach     0\n",
              "exang       0\n",
              "oldpeak     0\n",
              "slope       0\n",
              "ca          0\n",
              "thal        0\n",
              "target      0\n",
              "dtype: int64"
            ]
          },
          "metadata": {},
          "execution_count": 8
        }
      ]
    },
    {
      "cell_type": "code",
      "source": [
        "df.info()"
      ],
      "metadata": {
        "colab": {
          "base_uri": "https://localhost:8080/"
        },
        "id": "556wTzaNAXfS",
        "outputId": "18397c7c-da30-4bb9-940e-fe691e4b1cd5"
      },
      "execution_count": 9,
      "outputs": [
        {
          "output_type": "stream",
          "name": "stdout",
          "text": [
            "<class 'pandas.core.frame.DataFrame'>\n",
            "RangeIndex: 303 entries, 0 to 302\n",
            "Data columns (total 14 columns):\n",
            " #   Column    Non-Null Count  Dtype  \n",
            "---  ------    --------------  -----  \n",
            " 0   age       303 non-null    int64  \n",
            " 1   sex       303 non-null    int64  \n",
            " 2   cp        303 non-null    int64  \n",
            " 3   trestbps  303 non-null    int64  \n",
            " 4   chol      303 non-null    int64  \n",
            " 5   fbs       303 non-null    int64  \n",
            " 6   restecg   303 non-null    int64  \n",
            " 7   thalach   303 non-null    int64  \n",
            " 8   exang     303 non-null    int64  \n",
            " 9   oldpeak   303 non-null    float64\n",
            " 10  slope     303 non-null    int64  \n",
            " 11  ca        303 non-null    int64  \n",
            " 12  thal      303 non-null    int64  \n",
            " 13  target    303 non-null    int64  \n",
            "dtypes: float64(1), int64(13)\n",
            "memory usage: 33.3 KB\n"
          ]
        }
      ]
    },
    {
      "cell_type": "code",
      "source": [
        "df.head(10).style.background_gradient(cmap=\"Reds\")"
      ],
      "metadata": {
        "colab": {
          "base_uri": "https://localhost:8080/",
          "height": 363
        },
        "id": "Rs9y46W2AdNw",
        "outputId": "92af82aa-5bf3-4c0a-c253-b2c77c405fc7"
      },
      "execution_count": 11,
      "outputs": [
        {
          "output_type": "execute_result",
          "data": {
            "text/plain": [
              "<pandas.io.formats.style.Styler at 0x7ade529e39a0>"
            ],
            "text/html": [
              "<style type=\"text/css\">\n",
              "#T_ce0a6_row0_col0, #T_ce0a6_row0_col1, #T_ce0a6_row0_col2, #T_ce0a6_row0_col5, #T_ce0a6_row1_col1, #T_ce0a6_row1_col6, #T_ce0a6_row1_col7, #T_ce0a6_row1_col9, #T_ce0a6_row2_col10, #T_ce0a6_row3_col1, #T_ce0a6_row3_col6, #T_ce0a6_row3_col10, #T_ce0a6_row4_col4, #T_ce0a6_row4_col6, #T_ce0a6_row4_col8, #T_ce0a6_row4_col10, #T_ce0a6_row5_col1, #T_ce0a6_row5_col6, #T_ce0a6_row7_col1, #T_ce0a6_row7_col6, #T_ce0a6_row7_col10, #T_ce0a6_row7_col12, #T_ce0a6_row8_col1, #T_ce0a6_row8_col3, #T_ce0a6_row8_col5, #T_ce0a6_row8_col6, #T_ce0a6_row8_col10, #T_ce0a6_row8_col12, #T_ce0a6_row9_col1, #T_ce0a6_row9_col6, #T_ce0a6_row9_col10 {\n",
              "  background-color: #67000d;\n",
              "  color: #f1f1f1;\n",
              "}\n",
              "#T_ce0a6_row0_col3 {\n",
              "  background-color: #fb7050;\n",
              "  color: #f1f1f1;\n",
              "}\n",
              "#T_ce0a6_row0_col4 {\n",
              "  background-color: #fc9b7c;\n",
              "  color: #000000;\n",
              "}\n",
              "#T_ce0a6_row0_col6, #T_ce0a6_row0_col8, #T_ce0a6_row0_col10, #T_ce0a6_row0_col11, #T_ce0a6_row0_col12, #T_ce0a6_row0_col13, #T_ce0a6_row1_col0, #T_ce0a6_row1_col5, #T_ce0a6_row1_col8, #T_ce0a6_row1_col10, #T_ce0a6_row1_col11, #T_ce0a6_row1_col13, #T_ce0a6_row2_col1, #T_ce0a6_row2_col5, #T_ce0a6_row2_col6, #T_ce0a6_row2_col8, #T_ce0a6_row2_col11, #T_ce0a6_row2_col13, #T_ce0a6_row3_col3, #T_ce0a6_row3_col5, #T_ce0a6_row3_col8, #T_ce0a6_row3_col11, #T_ce0a6_row3_col13, #T_ce0a6_row4_col1, #T_ce0a6_row4_col2, #T_ce0a6_row4_col3, #T_ce0a6_row4_col5, #T_ce0a6_row4_col11, #T_ce0a6_row4_col13, #T_ce0a6_row5_col2, #T_ce0a6_row5_col5, #T_ce0a6_row5_col7, #T_ce0a6_row5_col8, #T_ce0a6_row5_col11, #T_ce0a6_row5_col12, #T_ce0a6_row5_col13, #T_ce0a6_row6_col1, #T_ce0a6_row6_col5, #T_ce0a6_row6_col6, #T_ce0a6_row6_col8, #T_ce0a6_row6_col11, #T_ce0a6_row6_col13, #T_ce0a6_row7_col3, #T_ce0a6_row7_col5, #T_ce0a6_row7_col8, #T_ce0a6_row7_col9, #T_ce0a6_row7_col11, #T_ce0a6_row7_col13, #T_ce0a6_row8_col8, #T_ce0a6_row8_col11, #T_ce0a6_row8_col13, #T_ce0a6_row9_col4, #T_ce0a6_row9_col5, #T_ce0a6_row9_col8, #T_ce0a6_row9_col11, #T_ce0a6_row9_col13 {\n",
              "  background-color: #fff5f0;\n",
              "  color: #000000;\n",
              "}\n",
              "#T_ce0a6_row0_col7 {\n",
              "  background-color: #ffece4;\n",
              "  color: #000000;\n",
              "}\n",
              "#T_ce0a6_row0_col9 {\n",
              "  background-color: #e53228;\n",
              "  color: #f1f1f1;\n",
              "}\n",
              "#T_ce0a6_row1_col2, #T_ce0a6_row8_col2, #T_ce0a6_row9_col2, #T_ce0a6_row9_col7 {\n",
              "  background-color: #e32f27;\n",
              "  color: #f1f1f1;\n",
              "}\n",
              "#T_ce0a6_row1_col3, #T_ce0a6_row2_col3, #T_ce0a6_row2_col4 {\n",
              "  background-color: #fdccb8;\n",
              "  color: #000000;\n",
              "}\n",
              "#T_ce0a6_row1_col4 {\n",
              "  background-color: #fb7d5d;\n",
              "  color: #f1f1f1;\n",
              "}\n",
              "#T_ce0a6_row1_col12, #T_ce0a6_row2_col12, #T_ce0a6_row3_col12, #T_ce0a6_row4_col12, #T_ce0a6_row5_col10, #T_ce0a6_row6_col10, #T_ce0a6_row6_col12, #T_ce0a6_row9_col12 {\n",
              "  background-color: #fb694a;\n",
              "  color: #f1f1f1;\n",
              "}\n",
              "#T_ce0a6_row2_col0 {\n",
              "  background-color: #fed8c7;\n",
              "  color: #000000;\n",
              "}\n",
              "#T_ce0a6_row2_col2, #T_ce0a6_row3_col2, #T_ce0a6_row6_col2, #T_ce0a6_row7_col2 {\n",
              "  background-color: #fca082;\n",
              "  color: #000000;\n",
              "}\n",
              "#T_ce0a6_row2_col7 {\n",
              "  background-color: #f03f2e;\n",
              "  color: #f1f1f1;\n",
              "}\n",
              "#T_ce0a6_row2_col9 {\n",
              "  background-color: #fc8a6a;\n",
              "  color: #f1f1f1;\n",
              "}\n",
              "#T_ce0a6_row3_col0, #T_ce0a6_row6_col0 {\n",
              "  background-color: #d01d1f;\n",
              "  color: #f1f1f1;\n",
              "}\n",
              "#T_ce0a6_row3_col4 {\n",
              "  background-color: #fc9576;\n",
              "  color: #000000;\n",
              "}\n",
              "#T_ce0a6_row3_col7, #T_ce0a6_row4_col0, #T_ce0a6_row5_col0, #T_ce0a6_row9_col0 {\n",
              "  background-color: #c5171c;\n",
              "  color: #f1f1f1;\n",
              "}\n",
              "#T_ce0a6_row3_col9 {\n",
              "  background-color: #fcc2aa;\n",
              "  color: #000000;\n",
              "}\n",
              "#T_ce0a6_row4_col7, #T_ce0a6_row5_col3, #T_ce0a6_row6_col3 {\n",
              "  background-color: #fc8f6f;\n",
              "  color: #000000;\n",
              "}\n",
              "#T_ce0a6_row4_col9 {\n",
              "  background-color: #fdd3c1;\n",
              "  color: #000000;\n",
              "}\n",
              "#T_ce0a6_row5_col4 {\n",
              "  background-color: #fedfd0;\n",
              "  color: #000000;\n",
              "}\n",
              "#T_ce0a6_row5_col9 {\n",
              "  background-color: #fee2d5;\n",
              "  color: #000000;\n",
              "}\n",
              "#T_ce0a6_row6_col4 {\n",
              "  background-color: #e02c26;\n",
              "  color: #f1f1f1;\n",
              "}\n",
              "#T_ce0a6_row6_col7 {\n",
              "  background-color: #fee0d2;\n",
              "  color: #000000;\n",
              "}\n",
              "#T_ce0a6_row6_col9 {\n",
              "  background-color: #fc9373;\n",
              "  color: #000000;\n",
              "}\n",
              "#T_ce0a6_row7_col0 {\n",
              "  background-color: #fcb69b;\n",
              "  color: #000000;\n",
              "}\n",
              "#T_ce0a6_row7_col4 {\n",
              "  background-color: #fa6648;\n",
              "  color: #f1f1f1;\n",
              "}\n",
              "#T_ce0a6_row7_col7 {\n",
              "  background-color: #ea362a;\n",
              "  color: #f1f1f1;\n",
              "}\n",
              "#T_ce0a6_row8_col0, #T_ce0a6_row9_col3 {\n",
              "  background-color: #f44d38;\n",
              "  color: #f1f1f1;\n",
              "}\n",
              "#T_ce0a6_row8_col4 {\n",
              "  background-color: #fdd4c2;\n",
              "  color: #000000;\n",
              "}\n",
              "#T_ce0a6_row8_col7 {\n",
              "  background-color: #fc9879;\n",
              "  color: #000000;\n",
              "}\n",
              "#T_ce0a6_row8_col9 {\n",
              "  background-color: #fedbcc;\n",
              "  color: #000000;\n",
              "}\n",
              "#T_ce0a6_row9_col9 {\n",
              "  background-color: #fb7757;\n",
              "  color: #f1f1f1;\n",
              "}\n",
              "</style>\n",
              "<table id=\"T_ce0a6\" class=\"dataframe\">\n",
              "  <thead>\n",
              "    <tr>\n",
              "      <th class=\"blank level0\" >&nbsp;</th>\n",
              "      <th id=\"T_ce0a6_level0_col0\" class=\"col_heading level0 col0\" >age</th>\n",
              "      <th id=\"T_ce0a6_level0_col1\" class=\"col_heading level0 col1\" >sex</th>\n",
              "      <th id=\"T_ce0a6_level0_col2\" class=\"col_heading level0 col2\" >cp</th>\n",
              "      <th id=\"T_ce0a6_level0_col3\" class=\"col_heading level0 col3\" >trestbps</th>\n",
              "      <th id=\"T_ce0a6_level0_col4\" class=\"col_heading level0 col4\" >chol</th>\n",
              "      <th id=\"T_ce0a6_level0_col5\" class=\"col_heading level0 col5\" >fbs</th>\n",
              "      <th id=\"T_ce0a6_level0_col6\" class=\"col_heading level0 col6\" >restecg</th>\n",
              "      <th id=\"T_ce0a6_level0_col7\" class=\"col_heading level0 col7\" >thalach</th>\n",
              "      <th id=\"T_ce0a6_level0_col8\" class=\"col_heading level0 col8\" >exang</th>\n",
              "      <th id=\"T_ce0a6_level0_col9\" class=\"col_heading level0 col9\" >oldpeak</th>\n",
              "      <th id=\"T_ce0a6_level0_col10\" class=\"col_heading level0 col10\" >slope</th>\n",
              "      <th id=\"T_ce0a6_level0_col11\" class=\"col_heading level0 col11\" >ca</th>\n",
              "      <th id=\"T_ce0a6_level0_col12\" class=\"col_heading level0 col12\" >thal</th>\n",
              "      <th id=\"T_ce0a6_level0_col13\" class=\"col_heading level0 col13\" >target</th>\n",
              "    </tr>\n",
              "  </thead>\n",
              "  <tbody>\n",
              "    <tr>\n",
              "      <th id=\"T_ce0a6_level0_row0\" class=\"row_heading level0 row0\" >0</th>\n",
              "      <td id=\"T_ce0a6_row0_col0\" class=\"data row0 col0\" >63</td>\n",
              "      <td id=\"T_ce0a6_row0_col1\" class=\"data row0 col1\" >1</td>\n",
              "      <td id=\"T_ce0a6_row0_col2\" class=\"data row0 col2\" >3</td>\n",
              "      <td id=\"T_ce0a6_row0_col3\" class=\"data row0 col3\" >145</td>\n",
              "      <td id=\"T_ce0a6_row0_col4\" class=\"data row0 col4\" >233</td>\n",
              "      <td id=\"T_ce0a6_row0_col5\" class=\"data row0 col5\" >1</td>\n",
              "      <td id=\"T_ce0a6_row0_col6\" class=\"data row0 col6\" >0</td>\n",
              "      <td id=\"T_ce0a6_row0_col7\" class=\"data row0 col7\" >150</td>\n",
              "      <td id=\"T_ce0a6_row0_col8\" class=\"data row0 col8\" >0</td>\n",
              "      <td id=\"T_ce0a6_row0_col9\" class=\"data row0 col9\" >2.300000</td>\n",
              "      <td id=\"T_ce0a6_row0_col10\" class=\"data row0 col10\" >0</td>\n",
              "      <td id=\"T_ce0a6_row0_col11\" class=\"data row0 col11\" >0</td>\n",
              "      <td id=\"T_ce0a6_row0_col12\" class=\"data row0 col12\" >1</td>\n",
              "      <td id=\"T_ce0a6_row0_col13\" class=\"data row0 col13\" >1</td>\n",
              "    </tr>\n",
              "    <tr>\n",
              "      <th id=\"T_ce0a6_level0_row1\" class=\"row_heading level0 row1\" >1</th>\n",
              "      <td id=\"T_ce0a6_row1_col0\" class=\"data row1 col0\" >37</td>\n",
              "      <td id=\"T_ce0a6_row1_col1\" class=\"data row1 col1\" >1</td>\n",
              "      <td id=\"T_ce0a6_row1_col2\" class=\"data row1 col2\" >2</td>\n",
              "      <td id=\"T_ce0a6_row1_col3\" class=\"data row1 col3\" >130</td>\n",
              "      <td id=\"T_ce0a6_row1_col4\" class=\"data row1 col4\" >250</td>\n",
              "      <td id=\"T_ce0a6_row1_col5\" class=\"data row1 col5\" >0</td>\n",
              "      <td id=\"T_ce0a6_row1_col6\" class=\"data row1 col6\" >1</td>\n",
              "      <td id=\"T_ce0a6_row1_col7\" class=\"data row1 col7\" >187</td>\n",
              "      <td id=\"T_ce0a6_row1_col8\" class=\"data row1 col8\" >0</td>\n",
              "      <td id=\"T_ce0a6_row1_col9\" class=\"data row1 col9\" >3.500000</td>\n",
              "      <td id=\"T_ce0a6_row1_col10\" class=\"data row1 col10\" >0</td>\n",
              "      <td id=\"T_ce0a6_row1_col11\" class=\"data row1 col11\" >0</td>\n",
              "      <td id=\"T_ce0a6_row1_col12\" class=\"data row1 col12\" >2</td>\n",
              "      <td id=\"T_ce0a6_row1_col13\" class=\"data row1 col13\" >1</td>\n",
              "    </tr>\n",
              "    <tr>\n",
              "      <th id=\"T_ce0a6_level0_row2\" class=\"row_heading level0 row2\" >2</th>\n",
              "      <td id=\"T_ce0a6_row2_col0\" class=\"data row2 col0\" >41</td>\n",
              "      <td id=\"T_ce0a6_row2_col1\" class=\"data row2 col1\" >0</td>\n",
              "      <td id=\"T_ce0a6_row2_col2\" class=\"data row2 col2\" >1</td>\n",
              "      <td id=\"T_ce0a6_row2_col3\" class=\"data row2 col3\" >130</td>\n",
              "      <td id=\"T_ce0a6_row2_col4\" class=\"data row2 col4\" >204</td>\n",
              "      <td id=\"T_ce0a6_row2_col5\" class=\"data row2 col5\" >0</td>\n",
              "      <td id=\"T_ce0a6_row2_col6\" class=\"data row2 col6\" >0</td>\n",
              "      <td id=\"T_ce0a6_row2_col7\" class=\"data row2 col7\" >172</td>\n",
              "      <td id=\"T_ce0a6_row2_col8\" class=\"data row2 col8\" >0</td>\n",
              "      <td id=\"T_ce0a6_row2_col9\" class=\"data row2 col9\" >1.400000</td>\n",
              "      <td id=\"T_ce0a6_row2_col10\" class=\"data row2 col10\" >2</td>\n",
              "      <td id=\"T_ce0a6_row2_col11\" class=\"data row2 col11\" >0</td>\n",
              "      <td id=\"T_ce0a6_row2_col12\" class=\"data row2 col12\" >2</td>\n",
              "      <td id=\"T_ce0a6_row2_col13\" class=\"data row2 col13\" >1</td>\n",
              "    </tr>\n",
              "    <tr>\n",
              "      <th id=\"T_ce0a6_level0_row3\" class=\"row_heading level0 row3\" >3</th>\n",
              "      <td id=\"T_ce0a6_row3_col0\" class=\"data row3 col0\" >56</td>\n",
              "      <td id=\"T_ce0a6_row3_col1\" class=\"data row3 col1\" >1</td>\n",
              "      <td id=\"T_ce0a6_row3_col2\" class=\"data row3 col2\" >1</td>\n",
              "      <td id=\"T_ce0a6_row3_col3\" class=\"data row3 col3\" >120</td>\n",
              "      <td id=\"T_ce0a6_row3_col4\" class=\"data row3 col4\" >236</td>\n",
              "      <td id=\"T_ce0a6_row3_col5\" class=\"data row3 col5\" >0</td>\n",
              "      <td id=\"T_ce0a6_row3_col6\" class=\"data row3 col6\" >1</td>\n",
              "      <td id=\"T_ce0a6_row3_col7\" class=\"data row3 col7\" >178</td>\n",
              "      <td id=\"T_ce0a6_row3_col8\" class=\"data row3 col8\" >0</td>\n",
              "      <td id=\"T_ce0a6_row3_col9\" class=\"data row3 col9\" >0.800000</td>\n",
              "      <td id=\"T_ce0a6_row3_col10\" class=\"data row3 col10\" >2</td>\n",
              "      <td id=\"T_ce0a6_row3_col11\" class=\"data row3 col11\" >0</td>\n",
              "      <td id=\"T_ce0a6_row3_col12\" class=\"data row3 col12\" >2</td>\n",
              "      <td id=\"T_ce0a6_row3_col13\" class=\"data row3 col13\" >1</td>\n",
              "    </tr>\n",
              "    <tr>\n",
              "      <th id=\"T_ce0a6_level0_row4\" class=\"row_heading level0 row4\" >4</th>\n",
              "      <td id=\"T_ce0a6_row4_col0\" class=\"data row4 col0\" >57</td>\n",
              "      <td id=\"T_ce0a6_row4_col1\" class=\"data row4 col1\" >0</td>\n",
              "      <td id=\"T_ce0a6_row4_col2\" class=\"data row4 col2\" >0</td>\n",
              "      <td id=\"T_ce0a6_row4_col3\" class=\"data row4 col3\" >120</td>\n",
              "      <td id=\"T_ce0a6_row4_col4\" class=\"data row4 col4\" >354</td>\n",
              "      <td id=\"T_ce0a6_row4_col5\" class=\"data row4 col5\" >0</td>\n",
              "      <td id=\"T_ce0a6_row4_col6\" class=\"data row4 col6\" >1</td>\n",
              "      <td id=\"T_ce0a6_row4_col7\" class=\"data row4 col7\" >163</td>\n",
              "      <td id=\"T_ce0a6_row4_col8\" class=\"data row4 col8\" >1</td>\n",
              "      <td id=\"T_ce0a6_row4_col9\" class=\"data row4 col9\" >0.600000</td>\n",
              "      <td id=\"T_ce0a6_row4_col10\" class=\"data row4 col10\" >2</td>\n",
              "      <td id=\"T_ce0a6_row4_col11\" class=\"data row4 col11\" >0</td>\n",
              "      <td id=\"T_ce0a6_row4_col12\" class=\"data row4 col12\" >2</td>\n",
              "      <td id=\"T_ce0a6_row4_col13\" class=\"data row4 col13\" >1</td>\n",
              "    </tr>\n",
              "    <tr>\n",
              "      <th id=\"T_ce0a6_level0_row5\" class=\"row_heading level0 row5\" >5</th>\n",
              "      <td id=\"T_ce0a6_row5_col0\" class=\"data row5 col0\" >57</td>\n",
              "      <td id=\"T_ce0a6_row5_col1\" class=\"data row5 col1\" >1</td>\n",
              "      <td id=\"T_ce0a6_row5_col2\" class=\"data row5 col2\" >0</td>\n",
              "      <td id=\"T_ce0a6_row5_col3\" class=\"data row5 col3\" >140</td>\n",
              "      <td id=\"T_ce0a6_row5_col4\" class=\"data row5 col4\" >192</td>\n",
              "      <td id=\"T_ce0a6_row5_col5\" class=\"data row5 col5\" >0</td>\n",
              "      <td id=\"T_ce0a6_row5_col6\" class=\"data row5 col6\" >1</td>\n",
              "      <td id=\"T_ce0a6_row5_col7\" class=\"data row5 col7\" >148</td>\n",
              "      <td id=\"T_ce0a6_row5_col8\" class=\"data row5 col8\" >0</td>\n",
              "      <td id=\"T_ce0a6_row5_col9\" class=\"data row5 col9\" >0.400000</td>\n",
              "      <td id=\"T_ce0a6_row5_col10\" class=\"data row5 col10\" >1</td>\n",
              "      <td id=\"T_ce0a6_row5_col11\" class=\"data row5 col11\" >0</td>\n",
              "      <td id=\"T_ce0a6_row5_col12\" class=\"data row5 col12\" >1</td>\n",
              "      <td id=\"T_ce0a6_row5_col13\" class=\"data row5 col13\" >1</td>\n",
              "    </tr>\n",
              "    <tr>\n",
              "      <th id=\"T_ce0a6_level0_row6\" class=\"row_heading level0 row6\" >6</th>\n",
              "      <td id=\"T_ce0a6_row6_col0\" class=\"data row6 col0\" >56</td>\n",
              "      <td id=\"T_ce0a6_row6_col1\" class=\"data row6 col1\" >0</td>\n",
              "      <td id=\"T_ce0a6_row6_col2\" class=\"data row6 col2\" >1</td>\n",
              "      <td id=\"T_ce0a6_row6_col3\" class=\"data row6 col3\" >140</td>\n",
              "      <td id=\"T_ce0a6_row6_col4\" class=\"data row6 col4\" >294</td>\n",
              "      <td id=\"T_ce0a6_row6_col5\" class=\"data row6 col5\" >0</td>\n",
              "      <td id=\"T_ce0a6_row6_col6\" class=\"data row6 col6\" >0</td>\n",
              "      <td id=\"T_ce0a6_row6_col7\" class=\"data row6 col7\" >153</td>\n",
              "      <td id=\"T_ce0a6_row6_col8\" class=\"data row6 col8\" >0</td>\n",
              "      <td id=\"T_ce0a6_row6_col9\" class=\"data row6 col9\" >1.300000</td>\n",
              "      <td id=\"T_ce0a6_row6_col10\" class=\"data row6 col10\" >1</td>\n",
              "      <td id=\"T_ce0a6_row6_col11\" class=\"data row6 col11\" >0</td>\n",
              "      <td id=\"T_ce0a6_row6_col12\" class=\"data row6 col12\" >2</td>\n",
              "      <td id=\"T_ce0a6_row6_col13\" class=\"data row6 col13\" >1</td>\n",
              "    </tr>\n",
              "    <tr>\n",
              "      <th id=\"T_ce0a6_level0_row7\" class=\"row_heading level0 row7\" >7</th>\n",
              "      <td id=\"T_ce0a6_row7_col0\" class=\"data row7 col0\" >44</td>\n",
              "      <td id=\"T_ce0a6_row7_col1\" class=\"data row7 col1\" >1</td>\n",
              "      <td id=\"T_ce0a6_row7_col2\" class=\"data row7 col2\" >1</td>\n",
              "      <td id=\"T_ce0a6_row7_col3\" class=\"data row7 col3\" >120</td>\n",
              "      <td id=\"T_ce0a6_row7_col4\" class=\"data row7 col4\" >263</td>\n",
              "      <td id=\"T_ce0a6_row7_col5\" class=\"data row7 col5\" >0</td>\n",
              "      <td id=\"T_ce0a6_row7_col6\" class=\"data row7 col6\" >1</td>\n",
              "      <td id=\"T_ce0a6_row7_col7\" class=\"data row7 col7\" >173</td>\n",
              "      <td id=\"T_ce0a6_row7_col8\" class=\"data row7 col8\" >0</td>\n",
              "      <td id=\"T_ce0a6_row7_col9\" class=\"data row7 col9\" >0.000000</td>\n",
              "      <td id=\"T_ce0a6_row7_col10\" class=\"data row7 col10\" >2</td>\n",
              "      <td id=\"T_ce0a6_row7_col11\" class=\"data row7 col11\" >0</td>\n",
              "      <td id=\"T_ce0a6_row7_col12\" class=\"data row7 col12\" >3</td>\n",
              "      <td id=\"T_ce0a6_row7_col13\" class=\"data row7 col13\" >1</td>\n",
              "    </tr>\n",
              "    <tr>\n",
              "      <th id=\"T_ce0a6_level0_row8\" class=\"row_heading level0 row8\" >8</th>\n",
              "      <td id=\"T_ce0a6_row8_col0\" class=\"data row8 col0\" >52</td>\n",
              "      <td id=\"T_ce0a6_row8_col1\" class=\"data row8 col1\" >1</td>\n",
              "      <td id=\"T_ce0a6_row8_col2\" class=\"data row8 col2\" >2</td>\n",
              "      <td id=\"T_ce0a6_row8_col3\" class=\"data row8 col3\" >172</td>\n",
              "      <td id=\"T_ce0a6_row8_col4\" class=\"data row8 col4\" >199</td>\n",
              "      <td id=\"T_ce0a6_row8_col5\" class=\"data row8 col5\" >1</td>\n",
              "      <td id=\"T_ce0a6_row8_col6\" class=\"data row8 col6\" >1</td>\n",
              "      <td id=\"T_ce0a6_row8_col7\" class=\"data row8 col7\" >162</td>\n",
              "      <td id=\"T_ce0a6_row8_col8\" class=\"data row8 col8\" >0</td>\n",
              "      <td id=\"T_ce0a6_row8_col9\" class=\"data row8 col9\" >0.500000</td>\n",
              "      <td id=\"T_ce0a6_row8_col10\" class=\"data row8 col10\" >2</td>\n",
              "      <td id=\"T_ce0a6_row8_col11\" class=\"data row8 col11\" >0</td>\n",
              "      <td id=\"T_ce0a6_row8_col12\" class=\"data row8 col12\" >3</td>\n",
              "      <td id=\"T_ce0a6_row8_col13\" class=\"data row8 col13\" >1</td>\n",
              "    </tr>\n",
              "    <tr>\n",
              "      <th id=\"T_ce0a6_level0_row9\" class=\"row_heading level0 row9\" >9</th>\n",
              "      <td id=\"T_ce0a6_row9_col0\" class=\"data row9 col0\" >57</td>\n",
              "      <td id=\"T_ce0a6_row9_col1\" class=\"data row9 col1\" >1</td>\n",
              "      <td id=\"T_ce0a6_row9_col2\" class=\"data row9 col2\" >2</td>\n",
              "      <td id=\"T_ce0a6_row9_col3\" class=\"data row9 col3\" >150</td>\n",
              "      <td id=\"T_ce0a6_row9_col4\" class=\"data row9 col4\" >168</td>\n",
              "      <td id=\"T_ce0a6_row9_col5\" class=\"data row9 col5\" >0</td>\n",
              "      <td id=\"T_ce0a6_row9_col6\" class=\"data row9 col6\" >1</td>\n",
              "      <td id=\"T_ce0a6_row9_col7\" class=\"data row9 col7\" >174</td>\n",
              "      <td id=\"T_ce0a6_row9_col8\" class=\"data row9 col8\" >0</td>\n",
              "      <td id=\"T_ce0a6_row9_col9\" class=\"data row9 col9\" >1.600000</td>\n",
              "      <td id=\"T_ce0a6_row9_col10\" class=\"data row9 col10\" >2</td>\n",
              "      <td id=\"T_ce0a6_row9_col11\" class=\"data row9 col11\" >0</td>\n",
              "      <td id=\"T_ce0a6_row9_col12\" class=\"data row9 col12\" >2</td>\n",
              "      <td id=\"T_ce0a6_row9_col13\" class=\"data row9 col13\" >1</td>\n",
              "    </tr>\n",
              "  </tbody>\n",
              "</table>\n"
            ]
          },
          "metadata": {},
          "execution_count": 11
        }
      ]
    },
    {
      "cell_type": "code",
      "source": [
        "from sklearn.model_selection import train_test_split\n",
        "x_train, x_test, y_train, y_test =train_test_split(x ,y , test_size=0.2,random_state=0)"
      ],
      "metadata": {
        "id": "7Obkg3PpBA_j"
      },
      "execution_count": 15,
      "outputs": []
    },
    {
      "cell_type": "code",
      "source": [
        "print(x_train)"
      ],
      "metadata": {
        "colab": {
          "base_uri": "https://localhost:8080/"
        },
        "id": "0ItDnrf2BEdz",
        "outputId": "f97465a5-fc78-4ff6-8b3d-47c01a41d043"
      },
      "execution_count": 17,
      "outputs": [
        {
          "output_type": "stream",
          "name": "stdout",
          "text": [
            "     age  sex  cp  trestbps  chol  fbs  restecg  thalach  exang  oldpeak  \\\n",
            "74    43    0   2       122   213    0        1      165      0      0.2   \n",
            "153   66    0   2       146   278    0        0      152      0      0.0   \n",
            "64    58    1   2       140   211    1        0      165      0      0.0   \n",
            "296   63    0   0       124   197    0        1      136      1      0.0   \n",
            "287   57    1   1       154   232    0        0      164      0      0.0   \n",
            "..   ...  ...  ..       ...   ...  ...      ...      ...    ...      ...   \n",
            "251   43    1   0       132   247    1        0      143      1      0.1   \n",
            "192   54    1   0       120   188    0        1      113      0      1.4   \n",
            "117   56    1   3       120   193    0        0      162      0      1.9   \n",
            "47    47    1   2       138   257    0        0      156      0      0.0   \n",
            "172   58    1   1       120   284    0        0      160      0      1.8   \n",
            "\n",
            "     slope  ca  thal  \n",
            "74       1   0     2  \n",
            "153      1   1     2  \n",
            "64       2   0     2  \n",
            "296      1   0     2  \n",
            "287      2   1     2  \n",
            "..     ...  ..   ...  \n",
            "251      1   4     3  \n",
            "192      1   1     3  \n",
            "117      1   0     3  \n",
            "47       2   0     2  \n",
            "172      1   0     2  \n",
            "\n",
            "[242 rows x 13 columns]\n"
          ]
        }
      ]
    },
    {
      "cell_type": "code",
      "source": [
        "print(y_train)"
      ],
      "metadata": {
        "colab": {
          "base_uri": "https://localhost:8080/"
        },
        "id": "rVoniNQQBJIE",
        "outputId": "dde0fb0a-6348-4fb3-c04c-ffc830ba5c72"
      },
      "execution_count": 18,
      "outputs": [
        {
          "output_type": "stream",
          "name": "stdout",
          "text": [
            "[1 1 1 0 0 0 0 1 1 1 1 1 0 0 1 0 0 1 1 0 0 0 1 0 0 0 0 1 0 0 1 1 0 1 1 0 0\n",
            " 1 0 0 1 0 1 0 0 0 1 1 1 0 0 0 0 1 0 1 1 1 0 1 1 1 0 1 1 1 1 1 1 1 0 0 1 1\n",
            " 0 1 1 0 0 0 0 1 0 1 1 0 1 1 1 1 1 1 0 0 1 0 0 0 1 1 1 0 1 0 1 1 0 1 1 1 1\n",
            " 1 0 0 1 0 1 0 0 1 0 0 1 1 1 0 0 1 1 0 1 0 1 0 1 1 0 1 1 1 0 1 0 0 0 1 1 1\n",
            " 1 0 1 0 1 0 1 1 1 0 1 0 1 0 0 0 1 1 0 1 0 1 1 0 0 1 0 1 1 0 1 1 1 1 1 0 0\n",
            " 1 1 1 0 0 1 1 1 1 1 0 1 1 0 1 1 0 1 1 0 0 1 1 1 0 0 0 1 0 0 1 0 0 1 0 1 1\n",
            " 0 0 0 0 1 0 1 1 1 0 0 0 0 1 0 0 0 1 1 0]\n"
          ]
        }
      ]
    },
    {
      "cell_type": "code",
      "source": [
        "print(x_test)"
      ],
      "metadata": {
        "colab": {
          "base_uri": "https://localhost:8080/"
        },
        "id": "UCgZ13zYBM11",
        "outputId": "08616855-c5c3-4603-a52b-1bd9255c19cb"
      },
      "execution_count": 19,
      "outputs": [
        {
          "output_type": "stream",
          "name": "stdout",
          "text": [
            "     age  sex  cp  trestbps  chol  fbs  restecg  thalach  exang  oldpeak  \\\n",
            "225   70    1   0       145   174    0        1      125      1      2.6   \n",
            "152   64    1   3       170   227    0        0      155      0      0.6   \n",
            "228   59    1   3       170   288    0        0      159      0      0.2   \n",
            "201   60    1   0       125   258    0        0      141      1      2.8   \n",
            "52    62    1   2       130   231    0        1      146      0      1.8   \n",
            "..   ...  ...  ..       ...   ...  ...      ...      ...    ...      ...   \n",
            "146   44    0   2       118   242    0        1      149      0      0.3   \n",
            "302   57    0   1       130   236    0        0      174      0      0.0   \n",
            "26    59    1   2       150   212    1        1      157      0      1.6   \n",
            "108   50    0   1       120   244    0        1      162      0      1.1   \n",
            "89    58    0   0       100   248    0        0      122      0      1.0   \n",
            "\n",
            "     slope  ca  thal  \n",
            "225      0   0     3  \n",
            "152      1   0     3  \n",
            "228      1   0     3  \n",
            "201      1   1     3  \n",
            "52       1   3     3  \n",
            "..     ...  ..   ...  \n",
            "146      1   1     2  \n",
            "302      1   1     2  \n",
            "26       2   0     2  \n",
            "108      2   0     2  \n",
            "89       1   0     2  \n",
            "\n",
            "[61 rows x 13 columns]\n"
          ]
        }
      ]
    },
    {
      "cell_type": "code",
      "source": [
        "print(y_test)"
      ],
      "metadata": {
        "colab": {
          "base_uri": "https://localhost:8080/"
        },
        "id": "seCQQIl1BQJy",
        "outputId": "a7323b28-0e0d-4b04-d16f-943d6488788a"
      },
      "execution_count": 20,
      "outputs": [
        {
          "output_type": "stream",
          "name": "stdout",
          "text": [
            "[0 1 0 0 1 0 0 0 0 0 1 1 0 1 1 1 1 1 0 1 1 0 0 0 1 0 0 0 1 1 0 0 1 1 1 0 0\n",
            " 1 0 0 1 1 1 0 1 1 1 0 0 1 1 1 1 1 1 0 1 0 1 1 1]\n"
          ]
        }
      ]
    },
    {
      "cell_type": "code",
      "execution_count": 21,
      "metadata": {
        "colab": {
          "base_uri": "https://localhost:8080/",
          "height": 243
        },
        "id": "z1BtSwTJMi6F",
        "outputId": "07774cae-3e24-4afb-a952-c011fcd9b4ba"
      },
      "outputs": [
        {
          "output_type": "stream",
          "name": "stderr",
          "text": [
            "/usr/local/lib/python3.10/dist-packages/sklearn/linear_model/_logistic.py:458: ConvergenceWarning: lbfgs failed to converge (status=1):\n",
            "STOP: TOTAL NO. of ITERATIONS REACHED LIMIT.\n",
            "\n",
            "Increase the number of iterations (max_iter) or scale the data as shown in:\n",
            "    https://scikit-learn.org/stable/modules/preprocessing.html\n",
            "Please also refer to the documentation for alternative solver options:\n",
            "    https://scikit-learn.org/stable/modules/linear_model.html#logistic-regression\n",
            "  n_iter_i = _check_optimize_result(\n"
          ]
        },
        {
          "output_type": "execute_result",
          "data": {
            "text/plain": [
              "LogisticRegression()"
            ],
            "text/html": [
              "<style>#sk-container-id-2 {color: black;background-color: white;}#sk-container-id-2 pre{padding: 0;}#sk-container-id-2 div.sk-toggleable {background-color: white;}#sk-container-id-2 label.sk-toggleable__label {cursor: pointer;display: block;width: 100%;margin-bottom: 0;padding: 0.3em;box-sizing: border-box;text-align: center;}#sk-container-id-2 label.sk-toggleable__label-arrow:before {content: \"▸\";float: left;margin-right: 0.25em;color: #696969;}#sk-container-id-2 label.sk-toggleable__label-arrow:hover:before {color: black;}#sk-container-id-2 div.sk-estimator:hover label.sk-toggleable__label-arrow:before {color: black;}#sk-container-id-2 div.sk-toggleable__content {max-height: 0;max-width: 0;overflow: hidden;text-align: left;background-color: #f0f8ff;}#sk-container-id-2 div.sk-toggleable__content pre {margin: 0.2em;color: black;border-radius: 0.25em;background-color: #f0f8ff;}#sk-container-id-2 input.sk-toggleable__control:checked~div.sk-toggleable__content {max-height: 200px;max-width: 100%;overflow: auto;}#sk-container-id-2 input.sk-toggleable__control:checked~label.sk-toggleable__label-arrow:before {content: \"▾\";}#sk-container-id-2 div.sk-estimator input.sk-toggleable__control:checked~label.sk-toggleable__label {background-color: #d4ebff;}#sk-container-id-2 div.sk-label input.sk-toggleable__control:checked~label.sk-toggleable__label {background-color: #d4ebff;}#sk-container-id-2 input.sk-hidden--visually {border: 0;clip: rect(1px 1px 1px 1px);clip: rect(1px, 1px, 1px, 1px);height: 1px;margin: -1px;overflow: hidden;padding: 0;position: absolute;width: 1px;}#sk-container-id-2 div.sk-estimator {font-family: monospace;background-color: #f0f8ff;border: 1px dotted black;border-radius: 0.25em;box-sizing: border-box;margin-bottom: 0.5em;}#sk-container-id-2 div.sk-estimator:hover {background-color: #d4ebff;}#sk-container-id-2 div.sk-parallel-item::after {content: \"\";width: 100%;border-bottom: 1px solid gray;flex-grow: 1;}#sk-container-id-2 div.sk-label:hover label.sk-toggleable__label {background-color: #d4ebff;}#sk-container-id-2 div.sk-serial::before {content: \"\";position: absolute;border-left: 1px solid gray;box-sizing: border-box;top: 0;bottom: 0;left: 50%;z-index: 0;}#sk-container-id-2 div.sk-serial {display: flex;flex-direction: column;align-items: center;background-color: white;padding-right: 0.2em;padding-left: 0.2em;position: relative;}#sk-container-id-2 div.sk-item {position: relative;z-index: 1;}#sk-container-id-2 div.sk-parallel {display: flex;align-items: stretch;justify-content: center;background-color: white;position: relative;}#sk-container-id-2 div.sk-item::before, #sk-container-id-2 div.sk-parallel-item::before {content: \"\";position: absolute;border-left: 1px solid gray;box-sizing: border-box;top: 0;bottom: 0;left: 50%;z-index: -1;}#sk-container-id-2 div.sk-parallel-item {display: flex;flex-direction: column;z-index: 1;position: relative;background-color: white;}#sk-container-id-2 div.sk-parallel-item:first-child::after {align-self: flex-end;width: 50%;}#sk-container-id-2 div.sk-parallel-item:last-child::after {align-self: flex-start;width: 50%;}#sk-container-id-2 div.sk-parallel-item:only-child::after {width: 0;}#sk-container-id-2 div.sk-dashed-wrapped {border: 1px dashed gray;margin: 0 0.4em 0.5em 0.4em;box-sizing: border-box;padding-bottom: 0.4em;background-color: white;}#sk-container-id-2 div.sk-label label {font-family: monospace;font-weight: bold;display: inline-block;line-height: 1.2em;}#sk-container-id-2 div.sk-label-container {text-align: center;}#sk-container-id-2 div.sk-container {/* jupyter's `normalize.less` sets `[hidden] { display: none; }` but bootstrap.min.css set `[hidden] { display: none !important; }` so we also need the `!important` here to be able to override the default hidden behavior on the sphinx rendered scikit-learn.org. See: https://github.com/scikit-learn/scikit-learn/issues/21755 */display: inline-block !important;position: relative;}#sk-container-id-2 div.sk-text-repr-fallback {display: none;}</style><div id=\"sk-container-id-2\" class=\"sk-top-container\"><div class=\"sk-text-repr-fallback\"><pre>LogisticRegression()</pre><b>In a Jupyter environment, please rerun this cell to show the HTML representation or trust the notebook. <br />On GitHub, the HTML representation is unable to render, please try loading this page with nbviewer.org.</b></div><div class=\"sk-container\" hidden><div class=\"sk-item\"><div class=\"sk-estimator sk-toggleable\"><input class=\"sk-toggleable__control sk-hidden--visually\" id=\"sk-estimator-id-2\" type=\"checkbox\" checked><label for=\"sk-estimator-id-2\" class=\"sk-toggleable__label sk-toggleable__label-arrow\">LogisticRegression</label><div class=\"sk-toggleable__content\"><pre>LogisticRegression()</pre></div></div></div></div></div>"
            ]
          },
          "metadata": {},
          "execution_count": 21
        }
      ],
      "source": [
        "#Logistic Regression\n",
        "from sklearn.linear_model import LogisticRegression\n",
        "model_logistic= LogisticRegression()\n",
        "model_logistic.fit(x_train, y_train)\n"
      ]
    },
    {
      "cell_type": "code",
      "execution_count": 22,
      "metadata": {
        "colab": {
          "base_uri": "https://localhost:8080/",
          "height": 75
        },
        "id": "nStfa4bHOXvy",
        "outputId": "0e443305-c20b-463f-916d-dbf8c03475dc"
      },
      "outputs": [
        {
          "output_type": "execute_result",
          "data": {
            "text/plain": [
              "SVC()"
            ],
            "text/html": [
              "<style>#sk-container-id-3 {color: black;background-color: white;}#sk-container-id-3 pre{padding: 0;}#sk-container-id-3 div.sk-toggleable {background-color: white;}#sk-container-id-3 label.sk-toggleable__label {cursor: pointer;display: block;width: 100%;margin-bottom: 0;padding: 0.3em;box-sizing: border-box;text-align: center;}#sk-container-id-3 label.sk-toggleable__label-arrow:before {content: \"▸\";float: left;margin-right: 0.25em;color: #696969;}#sk-container-id-3 label.sk-toggleable__label-arrow:hover:before {color: black;}#sk-container-id-3 div.sk-estimator:hover label.sk-toggleable__label-arrow:before {color: black;}#sk-container-id-3 div.sk-toggleable__content {max-height: 0;max-width: 0;overflow: hidden;text-align: left;background-color: #f0f8ff;}#sk-container-id-3 div.sk-toggleable__content pre {margin: 0.2em;color: black;border-radius: 0.25em;background-color: #f0f8ff;}#sk-container-id-3 input.sk-toggleable__control:checked~div.sk-toggleable__content {max-height: 200px;max-width: 100%;overflow: auto;}#sk-container-id-3 input.sk-toggleable__control:checked~label.sk-toggleable__label-arrow:before {content: \"▾\";}#sk-container-id-3 div.sk-estimator input.sk-toggleable__control:checked~label.sk-toggleable__label {background-color: #d4ebff;}#sk-container-id-3 div.sk-label input.sk-toggleable__control:checked~label.sk-toggleable__label {background-color: #d4ebff;}#sk-container-id-3 input.sk-hidden--visually {border: 0;clip: rect(1px 1px 1px 1px);clip: rect(1px, 1px, 1px, 1px);height: 1px;margin: -1px;overflow: hidden;padding: 0;position: absolute;width: 1px;}#sk-container-id-3 div.sk-estimator {font-family: monospace;background-color: #f0f8ff;border: 1px dotted black;border-radius: 0.25em;box-sizing: border-box;margin-bottom: 0.5em;}#sk-container-id-3 div.sk-estimator:hover {background-color: #d4ebff;}#sk-container-id-3 div.sk-parallel-item::after {content: \"\";width: 100%;border-bottom: 1px solid gray;flex-grow: 1;}#sk-container-id-3 div.sk-label:hover label.sk-toggleable__label {background-color: #d4ebff;}#sk-container-id-3 div.sk-serial::before {content: \"\";position: absolute;border-left: 1px solid gray;box-sizing: border-box;top: 0;bottom: 0;left: 50%;z-index: 0;}#sk-container-id-3 div.sk-serial {display: flex;flex-direction: column;align-items: center;background-color: white;padding-right: 0.2em;padding-left: 0.2em;position: relative;}#sk-container-id-3 div.sk-item {position: relative;z-index: 1;}#sk-container-id-3 div.sk-parallel {display: flex;align-items: stretch;justify-content: center;background-color: white;position: relative;}#sk-container-id-3 div.sk-item::before, #sk-container-id-3 div.sk-parallel-item::before {content: \"\";position: absolute;border-left: 1px solid gray;box-sizing: border-box;top: 0;bottom: 0;left: 50%;z-index: -1;}#sk-container-id-3 div.sk-parallel-item {display: flex;flex-direction: column;z-index: 1;position: relative;background-color: white;}#sk-container-id-3 div.sk-parallel-item:first-child::after {align-self: flex-end;width: 50%;}#sk-container-id-3 div.sk-parallel-item:last-child::after {align-self: flex-start;width: 50%;}#sk-container-id-3 div.sk-parallel-item:only-child::after {width: 0;}#sk-container-id-3 div.sk-dashed-wrapped {border: 1px dashed gray;margin: 0 0.4em 0.5em 0.4em;box-sizing: border-box;padding-bottom: 0.4em;background-color: white;}#sk-container-id-3 div.sk-label label {font-family: monospace;font-weight: bold;display: inline-block;line-height: 1.2em;}#sk-container-id-3 div.sk-label-container {text-align: center;}#sk-container-id-3 div.sk-container {/* jupyter's `normalize.less` sets `[hidden] { display: none; }` but bootstrap.min.css set `[hidden] { display: none !important; }` so we also need the `!important` here to be able to override the default hidden behavior on the sphinx rendered scikit-learn.org. See: https://github.com/scikit-learn/scikit-learn/issues/21755 */display: inline-block !important;position: relative;}#sk-container-id-3 div.sk-text-repr-fallback {display: none;}</style><div id=\"sk-container-id-3\" class=\"sk-top-container\"><div class=\"sk-text-repr-fallback\"><pre>SVC()</pre><b>In a Jupyter environment, please rerun this cell to show the HTML representation or trust the notebook. <br />On GitHub, the HTML representation is unable to render, please try loading this page with nbviewer.org.</b></div><div class=\"sk-container\" hidden><div class=\"sk-item\"><div class=\"sk-estimator sk-toggleable\"><input class=\"sk-toggleable__control sk-hidden--visually\" id=\"sk-estimator-id-3\" type=\"checkbox\" checked><label for=\"sk-estimator-id-3\" class=\"sk-toggleable__label sk-toggleable__label-arrow\">SVC</label><div class=\"sk-toggleable__content\"><pre>SVC()</pre></div></div></div></div></div>"
            ]
          },
          "metadata": {},
          "execution_count": 22
        }
      ],
      "source": [
        "#SVM\n",
        "\n",
        "from sklearn.svm import SVC\n",
        "model_svm=SVC()\n",
        "\n",
        "model_svm.fit(x_train,y_train)"
      ]
    },
    {
      "cell_type": "code",
      "execution_count": 23,
      "metadata": {
        "colab": {
          "base_uri": "https://localhost:8080/",
          "height": 75
        },
        "id": "76pmgltdTDos",
        "outputId": "ff6185e9-8b60-4bbd-f1dd-e0aa36beec26"
      },
      "outputs": [
        {
          "output_type": "execute_result",
          "data": {
            "text/plain": [
              "KNeighborsClassifier()"
            ],
            "text/html": [
              "<style>#sk-container-id-4 {color: black;background-color: white;}#sk-container-id-4 pre{padding: 0;}#sk-container-id-4 div.sk-toggleable {background-color: white;}#sk-container-id-4 label.sk-toggleable__label {cursor: pointer;display: block;width: 100%;margin-bottom: 0;padding: 0.3em;box-sizing: border-box;text-align: center;}#sk-container-id-4 label.sk-toggleable__label-arrow:before {content: \"▸\";float: left;margin-right: 0.25em;color: #696969;}#sk-container-id-4 label.sk-toggleable__label-arrow:hover:before {color: black;}#sk-container-id-4 div.sk-estimator:hover label.sk-toggleable__label-arrow:before {color: black;}#sk-container-id-4 div.sk-toggleable__content {max-height: 0;max-width: 0;overflow: hidden;text-align: left;background-color: #f0f8ff;}#sk-container-id-4 div.sk-toggleable__content pre {margin: 0.2em;color: black;border-radius: 0.25em;background-color: #f0f8ff;}#sk-container-id-4 input.sk-toggleable__control:checked~div.sk-toggleable__content {max-height: 200px;max-width: 100%;overflow: auto;}#sk-container-id-4 input.sk-toggleable__control:checked~label.sk-toggleable__label-arrow:before {content: \"▾\";}#sk-container-id-4 div.sk-estimator input.sk-toggleable__control:checked~label.sk-toggleable__label {background-color: #d4ebff;}#sk-container-id-4 div.sk-label input.sk-toggleable__control:checked~label.sk-toggleable__label {background-color: #d4ebff;}#sk-container-id-4 input.sk-hidden--visually {border: 0;clip: rect(1px 1px 1px 1px);clip: rect(1px, 1px, 1px, 1px);height: 1px;margin: -1px;overflow: hidden;padding: 0;position: absolute;width: 1px;}#sk-container-id-4 div.sk-estimator {font-family: monospace;background-color: #f0f8ff;border: 1px dotted black;border-radius: 0.25em;box-sizing: border-box;margin-bottom: 0.5em;}#sk-container-id-4 div.sk-estimator:hover {background-color: #d4ebff;}#sk-container-id-4 div.sk-parallel-item::after {content: \"\";width: 100%;border-bottom: 1px solid gray;flex-grow: 1;}#sk-container-id-4 div.sk-label:hover label.sk-toggleable__label {background-color: #d4ebff;}#sk-container-id-4 div.sk-serial::before {content: \"\";position: absolute;border-left: 1px solid gray;box-sizing: border-box;top: 0;bottom: 0;left: 50%;z-index: 0;}#sk-container-id-4 div.sk-serial {display: flex;flex-direction: column;align-items: center;background-color: white;padding-right: 0.2em;padding-left: 0.2em;position: relative;}#sk-container-id-4 div.sk-item {position: relative;z-index: 1;}#sk-container-id-4 div.sk-parallel {display: flex;align-items: stretch;justify-content: center;background-color: white;position: relative;}#sk-container-id-4 div.sk-item::before, #sk-container-id-4 div.sk-parallel-item::before {content: \"\";position: absolute;border-left: 1px solid gray;box-sizing: border-box;top: 0;bottom: 0;left: 50%;z-index: -1;}#sk-container-id-4 div.sk-parallel-item {display: flex;flex-direction: column;z-index: 1;position: relative;background-color: white;}#sk-container-id-4 div.sk-parallel-item:first-child::after {align-self: flex-end;width: 50%;}#sk-container-id-4 div.sk-parallel-item:last-child::after {align-self: flex-start;width: 50%;}#sk-container-id-4 div.sk-parallel-item:only-child::after {width: 0;}#sk-container-id-4 div.sk-dashed-wrapped {border: 1px dashed gray;margin: 0 0.4em 0.5em 0.4em;box-sizing: border-box;padding-bottom: 0.4em;background-color: white;}#sk-container-id-4 div.sk-label label {font-family: monospace;font-weight: bold;display: inline-block;line-height: 1.2em;}#sk-container-id-4 div.sk-label-container {text-align: center;}#sk-container-id-4 div.sk-container {/* jupyter's `normalize.less` sets `[hidden] { display: none; }` but bootstrap.min.css set `[hidden] { display: none !important; }` so we also need the `!important` here to be able to override the default hidden behavior on the sphinx rendered scikit-learn.org. See: https://github.com/scikit-learn/scikit-learn/issues/21755 */display: inline-block !important;position: relative;}#sk-container-id-4 div.sk-text-repr-fallback {display: none;}</style><div id=\"sk-container-id-4\" class=\"sk-top-container\"><div class=\"sk-text-repr-fallback\"><pre>KNeighborsClassifier()</pre><b>In a Jupyter environment, please rerun this cell to show the HTML representation or trust the notebook. <br />On GitHub, the HTML representation is unable to render, please try loading this page with nbviewer.org.</b></div><div class=\"sk-container\" hidden><div class=\"sk-item\"><div class=\"sk-estimator sk-toggleable\"><input class=\"sk-toggleable__control sk-hidden--visually\" id=\"sk-estimator-id-4\" type=\"checkbox\" checked><label for=\"sk-estimator-id-4\" class=\"sk-toggleable__label sk-toggleable__label-arrow\">KNeighborsClassifier</label><div class=\"sk-toggleable__content\"><pre>KNeighborsClassifier()</pre></div></div></div></div></div>"
            ]
          },
          "metadata": {},
          "execution_count": 23
        }
      ],
      "source": [
        "#KNN\n",
        "from sklearn.neighbors import KNeighborsClassifier\n",
        "model_knn=KNeighborsClassifier()\n",
        "model_knn.fit(x_train, y_train)"
      ]
    },
    {
      "cell_type": "code",
      "execution_count": 24,
      "metadata": {
        "colab": {
          "base_uri": "https://localhost:8080/",
          "height": 75
        },
        "id": "js0psVWOU1QQ",
        "outputId": "ad9a2e7a-6143-434b-a33d-799c81875f7d"
      },
      "outputs": [
        {
          "output_type": "execute_result",
          "data": {
            "text/plain": [
              "DecisionTreeClassifier()"
            ],
            "text/html": [
              "<style>#sk-container-id-5 {color: black;background-color: white;}#sk-container-id-5 pre{padding: 0;}#sk-container-id-5 div.sk-toggleable {background-color: white;}#sk-container-id-5 label.sk-toggleable__label {cursor: pointer;display: block;width: 100%;margin-bottom: 0;padding: 0.3em;box-sizing: border-box;text-align: center;}#sk-container-id-5 label.sk-toggleable__label-arrow:before {content: \"▸\";float: left;margin-right: 0.25em;color: #696969;}#sk-container-id-5 label.sk-toggleable__label-arrow:hover:before {color: black;}#sk-container-id-5 div.sk-estimator:hover label.sk-toggleable__label-arrow:before {color: black;}#sk-container-id-5 div.sk-toggleable__content {max-height: 0;max-width: 0;overflow: hidden;text-align: left;background-color: #f0f8ff;}#sk-container-id-5 div.sk-toggleable__content pre {margin: 0.2em;color: black;border-radius: 0.25em;background-color: #f0f8ff;}#sk-container-id-5 input.sk-toggleable__control:checked~div.sk-toggleable__content {max-height: 200px;max-width: 100%;overflow: auto;}#sk-container-id-5 input.sk-toggleable__control:checked~label.sk-toggleable__label-arrow:before {content: \"▾\";}#sk-container-id-5 div.sk-estimator input.sk-toggleable__control:checked~label.sk-toggleable__label {background-color: #d4ebff;}#sk-container-id-5 div.sk-label input.sk-toggleable__control:checked~label.sk-toggleable__label {background-color: #d4ebff;}#sk-container-id-5 input.sk-hidden--visually {border: 0;clip: rect(1px 1px 1px 1px);clip: rect(1px, 1px, 1px, 1px);height: 1px;margin: -1px;overflow: hidden;padding: 0;position: absolute;width: 1px;}#sk-container-id-5 div.sk-estimator {font-family: monospace;background-color: #f0f8ff;border: 1px dotted black;border-radius: 0.25em;box-sizing: border-box;margin-bottom: 0.5em;}#sk-container-id-5 div.sk-estimator:hover {background-color: #d4ebff;}#sk-container-id-5 div.sk-parallel-item::after {content: \"\";width: 100%;border-bottom: 1px solid gray;flex-grow: 1;}#sk-container-id-5 div.sk-label:hover label.sk-toggleable__label {background-color: #d4ebff;}#sk-container-id-5 div.sk-serial::before {content: \"\";position: absolute;border-left: 1px solid gray;box-sizing: border-box;top: 0;bottom: 0;left: 50%;z-index: 0;}#sk-container-id-5 div.sk-serial {display: flex;flex-direction: column;align-items: center;background-color: white;padding-right: 0.2em;padding-left: 0.2em;position: relative;}#sk-container-id-5 div.sk-item {position: relative;z-index: 1;}#sk-container-id-5 div.sk-parallel {display: flex;align-items: stretch;justify-content: center;background-color: white;position: relative;}#sk-container-id-5 div.sk-item::before, #sk-container-id-5 div.sk-parallel-item::before {content: \"\";position: absolute;border-left: 1px solid gray;box-sizing: border-box;top: 0;bottom: 0;left: 50%;z-index: -1;}#sk-container-id-5 div.sk-parallel-item {display: flex;flex-direction: column;z-index: 1;position: relative;background-color: white;}#sk-container-id-5 div.sk-parallel-item:first-child::after {align-self: flex-end;width: 50%;}#sk-container-id-5 div.sk-parallel-item:last-child::after {align-self: flex-start;width: 50%;}#sk-container-id-5 div.sk-parallel-item:only-child::after {width: 0;}#sk-container-id-5 div.sk-dashed-wrapped {border: 1px dashed gray;margin: 0 0.4em 0.5em 0.4em;box-sizing: border-box;padding-bottom: 0.4em;background-color: white;}#sk-container-id-5 div.sk-label label {font-family: monospace;font-weight: bold;display: inline-block;line-height: 1.2em;}#sk-container-id-5 div.sk-label-container {text-align: center;}#sk-container-id-5 div.sk-container {/* jupyter's `normalize.less` sets `[hidden] { display: none; }` but bootstrap.min.css set `[hidden] { display: none !important; }` so we also need the `!important` here to be able to override the default hidden behavior on the sphinx rendered scikit-learn.org. See: https://github.com/scikit-learn/scikit-learn/issues/21755 */display: inline-block !important;position: relative;}#sk-container-id-5 div.sk-text-repr-fallback {display: none;}</style><div id=\"sk-container-id-5\" class=\"sk-top-container\"><div class=\"sk-text-repr-fallback\"><pre>DecisionTreeClassifier()</pre><b>In a Jupyter environment, please rerun this cell to show the HTML representation or trust the notebook. <br />On GitHub, the HTML representation is unable to render, please try loading this page with nbviewer.org.</b></div><div class=\"sk-container\" hidden><div class=\"sk-item\"><div class=\"sk-estimator sk-toggleable\"><input class=\"sk-toggleable__control sk-hidden--visually\" id=\"sk-estimator-id-5\" type=\"checkbox\" checked><label for=\"sk-estimator-id-5\" class=\"sk-toggleable__label sk-toggleable__label-arrow\">DecisionTreeClassifier</label><div class=\"sk-toggleable__content\"><pre>DecisionTreeClassifier()</pre></div></div></div></div></div>"
            ]
          },
          "metadata": {},
          "execution_count": 24
        }
      ],
      "source": [
        "#Decision Tree\n",
        "\n",
        "from sklearn.tree import DecisionTreeClassifier\n",
        "model_tree= DecisionTreeClassifier()\n",
        "model_tree.fit(x_train, y_train)"
      ]
    },
    {
      "cell_type": "code",
      "execution_count": 25,
      "metadata": {
        "colab": {
          "base_uri": "https://localhost:8080/",
          "height": 75
        },
        "id": "VbKK7BR7WKDO",
        "outputId": "618c1132-8732-48f5-e7cf-650a92522543"
      },
      "outputs": [
        {
          "output_type": "execute_result",
          "data": {
            "text/plain": [
              "RandomForestClassifier()"
            ],
            "text/html": [
              "<style>#sk-container-id-6 {color: black;background-color: white;}#sk-container-id-6 pre{padding: 0;}#sk-container-id-6 div.sk-toggleable {background-color: white;}#sk-container-id-6 label.sk-toggleable__label {cursor: pointer;display: block;width: 100%;margin-bottom: 0;padding: 0.3em;box-sizing: border-box;text-align: center;}#sk-container-id-6 label.sk-toggleable__label-arrow:before {content: \"▸\";float: left;margin-right: 0.25em;color: #696969;}#sk-container-id-6 label.sk-toggleable__label-arrow:hover:before {color: black;}#sk-container-id-6 div.sk-estimator:hover label.sk-toggleable__label-arrow:before {color: black;}#sk-container-id-6 div.sk-toggleable__content {max-height: 0;max-width: 0;overflow: hidden;text-align: left;background-color: #f0f8ff;}#sk-container-id-6 div.sk-toggleable__content pre {margin: 0.2em;color: black;border-radius: 0.25em;background-color: #f0f8ff;}#sk-container-id-6 input.sk-toggleable__control:checked~div.sk-toggleable__content {max-height: 200px;max-width: 100%;overflow: auto;}#sk-container-id-6 input.sk-toggleable__control:checked~label.sk-toggleable__label-arrow:before {content: \"▾\";}#sk-container-id-6 div.sk-estimator input.sk-toggleable__control:checked~label.sk-toggleable__label {background-color: #d4ebff;}#sk-container-id-6 div.sk-label input.sk-toggleable__control:checked~label.sk-toggleable__label {background-color: #d4ebff;}#sk-container-id-6 input.sk-hidden--visually {border: 0;clip: rect(1px 1px 1px 1px);clip: rect(1px, 1px, 1px, 1px);height: 1px;margin: -1px;overflow: hidden;padding: 0;position: absolute;width: 1px;}#sk-container-id-6 div.sk-estimator {font-family: monospace;background-color: #f0f8ff;border: 1px dotted black;border-radius: 0.25em;box-sizing: border-box;margin-bottom: 0.5em;}#sk-container-id-6 div.sk-estimator:hover {background-color: #d4ebff;}#sk-container-id-6 div.sk-parallel-item::after {content: \"\";width: 100%;border-bottom: 1px solid gray;flex-grow: 1;}#sk-container-id-6 div.sk-label:hover label.sk-toggleable__label {background-color: #d4ebff;}#sk-container-id-6 div.sk-serial::before {content: \"\";position: absolute;border-left: 1px solid gray;box-sizing: border-box;top: 0;bottom: 0;left: 50%;z-index: 0;}#sk-container-id-6 div.sk-serial {display: flex;flex-direction: column;align-items: center;background-color: white;padding-right: 0.2em;padding-left: 0.2em;position: relative;}#sk-container-id-6 div.sk-item {position: relative;z-index: 1;}#sk-container-id-6 div.sk-parallel {display: flex;align-items: stretch;justify-content: center;background-color: white;position: relative;}#sk-container-id-6 div.sk-item::before, #sk-container-id-6 div.sk-parallel-item::before {content: \"\";position: absolute;border-left: 1px solid gray;box-sizing: border-box;top: 0;bottom: 0;left: 50%;z-index: -1;}#sk-container-id-6 div.sk-parallel-item {display: flex;flex-direction: column;z-index: 1;position: relative;background-color: white;}#sk-container-id-6 div.sk-parallel-item:first-child::after {align-self: flex-end;width: 50%;}#sk-container-id-6 div.sk-parallel-item:last-child::after {align-self: flex-start;width: 50%;}#sk-container-id-6 div.sk-parallel-item:only-child::after {width: 0;}#sk-container-id-6 div.sk-dashed-wrapped {border: 1px dashed gray;margin: 0 0.4em 0.5em 0.4em;box-sizing: border-box;padding-bottom: 0.4em;background-color: white;}#sk-container-id-6 div.sk-label label {font-family: monospace;font-weight: bold;display: inline-block;line-height: 1.2em;}#sk-container-id-6 div.sk-label-container {text-align: center;}#sk-container-id-6 div.sk-container {/* jupyter's `normalize.less` sets `[hidden] { display: none; }` but bootstrap.min.css set `[hidden] { display: none !important; }` so we also need the `!important` here to be able to override the default hidden behavior on the sphinx rendered scikit-learn.org. See: https://github.com/scikit-learn/scikit-learn/issues/21755 */display: inline-block !important;position: relative;}#sk-container-id-6 div.sk-text-repr-fallback {display: none;}</style><div id=\"sk-container-id-6\" class=\"sk-top-container\"><div class=\"sk-text-repr-fallback\"><pre>RandomForestClassifier()</pre><b>In a Jupyter environment, please rerun this cell to show the HTML representation or trust the notebook. <br />On GitHub, the HTML representation is unable to render, please try loading this page with nbviewer.org.</b></div><div class=\"sk-container\" hidden><div class=\"sk-item\"><div class=\"sk-estimator sk-toggleable\"><input class=\"sk-toggleable__control sk-hidden--visually\" id=\"sk-estimator-id-6\" type=\"checkbox\" checked><label for=\"sk-estimator-id-6\" class=\"sk-toggleable__label sk-toggleable__label-arrow\">RandomForestClassifier</label><div class=\"sk-toggleable__content\"><pre>RandomForestClassifier()</pre></div></div></div></div></div>"
            ]
          },
          "metadata": {},
          "execution_count": 25
        }
      ],
      "source": [
        "#Random Forest\n",
        "from sklearn.ensemble import RandomForestClassifier\n",
        "model_random= RandomForestClassifier()\n",
        "model_random.fit(x_train, y_train)"
      ]
    },
    {
      "cell_type": "code",
      "execution_count": 26,
      "metadata": {
        "colab": {
          "base_uri": "https://localhost:8080/",
          "height": 248
        },
        "id": "xV2FJNwXdP9K",
        "outputId": "510475f2-7d68-4bcd-e0f9-13f8ccbc5099"
      },
      "outputs": [
        {
          "output_type": "execute_result",
          "data": {
            "text/plain": [
              "XGBClassifier(base_score=None, booster=None, callbacks=None,\n",
              "              colsample_bylevel=None, colsample_bynode=None,\n",
              "              colsample_bytree=None, early_stopping_rounds=None,\n",
              "              enable_categorical=False, eval_metric=None, feature_types=None,\n",
              "              gamma=None, gpu_id=None, grow_policy=None, importance_type=None,\n",
              "              interaction_constraints=None, learning_rate=None, max_bin=None,\n",
              "              max_cat_threshold=None, max_cat_to_onehot=None,\n",
              "              max_delta_step=None, max_depth=None, max_leaves=None,\n",
              "              min_child_weight=None, missing=nan, monotone_constraints=None,\n",
              "              n_estimators=100, n_jobs=None, num_parallel_tree=None,\n",
              "              predictor=None, random_state=None, ...)"
            ],
            "text/html": [
              "<style>#sk-container-id-7 {color: black;background-color: white;}#sk-container-id-7 pre{padding: 0;}#sk-container-id-7 div.sk-toggleable {background-color: white;}#sk-container-id-7 label.sk-toggleable__label {cursor: pointer;display: block;width: 100%;margin-bottom: 0;padding: 0.3em;box-sizing: border-box;text-align: center;}#sk-container-id-7 label.sk-toggleable__label-arrow:before {content: \"▸\";float: left;margin-right: 0.25em;color: #696969;}#sk-container-id-7 label.sk-toggleable__label-arrow:hover:before {color: black;}#sk-container-id-7 div.sk-estimator:hover label.sk-toggleable__label-arrow:before {color: black;}#sk-container-id-7 div.sk-toggleable__content {max-height: 0;max-width: 0;overflow: hidden;text-align: left;background-color: #f0f8ff;}#sk-container-id-7 div.sk-toggleable__content pre {margin: 0.2em;color: black;border-radius: 0.25em;background-color: #f0f8ff;}#sk-container-id-7 input.sk-toggleable__control:checked~div.sk-toggleable__content {max-height: 200px;max-width: 100%;overflow: auto;}#sk-container-id-7 input.sk-toggleable__control:checked~label.sk-toggleable__label-arrow:before {content: \"▾\";}#sk-container-id-7 div.sk-estimator input.sk-toggleable__control:checked~label.sk-toggleable__label {background-color: #d4ebff;}#sk-container-id-7 div.sk-label input.sk-toggleable__control:checked~label.sk-toggleable__label {background-color: #d4ebff;}#sk-container-id-7 input.sk-hidden--visually {border: 0;clip: rect(1px 1px 1px 1px);clip: rect(1px, 1px, 1px, 1px);height: 1px;margin: -1px;overflow: hidden;padding: 0;position: absolute;width: 1px;}#sk-container-id-7 div.sk-estimator {font-family: monospace;background-color: #f0f8ff;border: 1px dotted black;border-radius: 0.25em;box-sizing: border-box;margin-bottom: 0.5em;}#sk-container-id-7 div.sk-estimator:hover {background-color: #d4ebff;}#sk-container-id-7 div.sk-parallel-item::after {content: \"\";width: 100%;border-bottom: 1px solid gray;flex-grow: 1;}#sk-container-id-7 div.sk-label:hover label.sk-toggleable__label {background-color: #d4ebff;}#sk-container-id-7 div.sk-serial::before {content: \"\";position: absolute;border-left: 1px solid gray;box-sizing: border-box;top: 0;bottom: 0;left: 50%;z-index: 0;}#sk-container-id-7 div.sk-serial {display: flex;flex-direction: column;align-items: center;background-color: white;padding-right: 0.2em;padding-left: 0.2em;position: relative;}#sk-container-id-7 div.sk-item {position: relative;z-index: 1;}#sk-container-id-7 div.sk-parallel {display: flex;align-items: stretch;justify-content: center;background-color: white;position: relative;}#sk-container-id-7 div.sk-item::before, #sk-container-id-7 div.sk-parallel-item::before {content: \"\";position: absolute;border-left: 1px solid gray;box-sizing: border-box;top: 0;bottom: 0;left: 50%;z-index: -1;}#sk-container-id-7 div.sk-parallel-item {display: flex;flex-direction: column;z-index: 1;position: relative;background-color: white;}#sk-container-id-7 div.sk-parallel-item:first-child::after {align-self: flex-end;width: 50%;}#sk-container-id-7 div.sk-parallel-item:last-child::after {align-self: flex-start;width: 50%;}#sk-container-id-7 div.sk-parallel-item:only-child::after {width: 0;}#sk-container-id-7 div.sk-dashed-wrapped {border: 1px dashed gray;margin: 0 0.4em 0.5em 0.4em;box-sizing: border-box;padding-bottom: 0.4em;background-color: white;}#sk-container-id-7 div.sk-label label {font-family: monospace;font-weight: bold;display: inline-block;line-height: 1.2em;}#sk-container-id-7 div.sk-label-container {text-align: center;}#sk-container-id-7 div.sk-container {/* jupyter's `normalize.less` sets `[hidden] { display: none; }` but bootstrap.min.css set `[hidden] { display: none !important; }` so we also need the `!important` here to be able to override the default hidden behavior on the sphinx rendered scikit-learn.org. See: https://github.com/scikit-learn/scikit-learn/issues/21755 */display: inline-block !important;position: relative;}#sk-container-id-7 div.sk-text-repr-fallback {display: none;}</style><div id=\"sk-container-id-7\" class=\"sk-top-container\"><div class=\"sk-text-repr-fallback\"><pre>XGBClassifier(base_score=None, booster=None, callbacks=None,\n",
              "              colsample_bylevel=None, colsample_bynode=None,\n",
              "              colsample_bytree=None, early_stopping_rounds=None,\n",
              "              enable_categorical=False, eval_metric=None, feature_types=None,\n",
              "              gamma=None, gpu_id=None, grow_policy=None, importance_type=None,\n",
              "              interaction_constraints=None, learning_rate=None, max_bin=None,\n",
              "              max_cat_threshold=None, max_cat_to_onehot=None,\n",
              "              max_delta_step=None, max_depth=None, max_leaves=None,\n",
              "              min_child_weight=None, missing=nan, monotone_constraints=None,\n",
              "              n_estimators=100, n_jobs=None, num_parallel_tree=None,\n",
              "              predictor=None, random_state=None, ...)</pre><b>In a Jupyter environment, please rerun this cell to show the HTML representation or trust the notebook. <br />On GitHub, the HTML representation is unable to render, please try loading this page with nbviewer.org.</b></div><div class=\"sk-container\" hidden><div class=\"sk-item\"><div class=\"sk-estimator sk-toggleable\"><input class=\"sk-toggleable__control sk-hidden--visually\" id=\"sk-estimator-id-7\" type=\"checkbox\" checked><label for=\"sk-estimator-id-7\" class=\"sk-toggleable__label sk-toggleable__label-arrow\">XGBClassifier</label><div class=\"sk-toggleable__content\"><pre>XGBClassifier(base_score=None, booster=None, callbacks=None,\n",
              "              colsample_bylevel=None, colsample_bynode=None,\n",
              "              colsample_bytree=None, early_stopping_rounds=None,\n",
              "              enable_categorical=False, eval_metric=None, feature_types=None,\n",
              "              gamma=None, gpu_id=None, grow_policy=None, importance_type=None,\n",
              "              interaction_constraints=None, learning_rate=None, max_bin=None,\n",
              "              max_cat_threshold=None, max_cat_to_onehot=None,\n",
              "              max_delta_step=None, max_depth=None, max_leaves=None,\n",
              "              min_child_weight=None, missing=nan, monotone_constraints=None,\n",
              "              n_estimators=100, n_jobs=None, num_parallel_tree=None,\n",
              "              predictor=None, random_state=None, ...)</pre></div></div></div></div></div>"
            ]
          },
          "metadata": {},
          "execution_count": 26
        }
      ],
      "source": [
        "#XGBoost\n",
        "from xgboost import XGBClassifier\n",
        "model_xg=XGBClassifier()\n",
        "model_xg.fit(x_train, y_train)"
      ]
    },
    {
      "cell_type": "code",
      "execution_count": 28,
      "metadata": {
        "id": "5zDLjJUewJpP"
      },
      "outputs": [],
      "source": [
        "#Neural Networks\n",
        "from sklearn.neural_network import MLPClassifier\n",
        "features = df.drop(\"target\", axis=1)\n",
        "target = df[\"target\"]\n",
        "clf = MLPClassifier(hidden_layer_sizes=(100, 100), activation=\"relu\", solver=\"adam\", max_iter=1000)\n",
        "clf.fit(features, target)\n",
        "predictions = clf.predict(features)\n",
        "accuracy = np.mean(predictions == target)"
      ]
    },
    {
      "cell_type": "code",
      "execution_count": 29,
      "metadata": {
        "colab": {
          "base_uri": "https://localhost:8080/",
          "height": 75
        },
        "id": "U8eeXkLKzkth",
        "outputId": "82936e09-931c-401a-8e74-a5c7a5685f08"
      },
      "outputs": [
        {
          "output_type": "execute_result",
          "data": {
            "text/plain": [
              "GradientBoostingClassifier()"
            ],
            "text/html": [
              "<style>#sk-container-id-8 {color: black;background-color: white;}#sk-container-id-8 pre{padding: 0;}#sk-container-id-8 div.sk-toggleable {background-color: white;}#sk-container-id-8 label.sk-toggleable__label {cursor: pointer;display: block;width: 100%;margin-bottom: 0;padding: 0.3em;box-sizing: border-box;text-align: center;}#sk-container-id-8 label.sk-toggleable__label-arrow:before {content: \"▸\";float: left;margin-right: 0.25em;color: #696969;}#sk-container-id-8 label.sk-toggleable__label-arrow:hover:before {color: black;}#sk-container-id-8 div.sk-estimator:hover label.sk-toggleable__label-arrow:before {color: black;}#sk-container-id-8 div.sk-toggleable__content {max-height: 0;max-width: 0;overflow: hidden;text-align: left;background-color: #f0f8ff;}#sk-container-id-8 div.sk-toggleable__content pre {margin: 0.2em;color: black;border-radius: 0.25em;background-color: #f0f8ff;}#sk-container-id-8 input.sk-toggleable__control:checked~div.sk-toggleable__content {max-height: 200px;max-width: 100%;overflow: auto;}#sk-container-id-8 input.sk-toggleable__control:checked~label.sk-toggleable__label-arrow:before {content: \"▾\";}#sk-container-id-8 div.sk-estimator input.sk-toggleable__control:checked~label.sk-toggleable__label {background-color: #d4ebff;}#sk-container-id-8 div.sk-label input.sk-toggleable__control:checked~label.sk-toggleable__label {background-color: #d4ebff;}#sk-container-id-8 input.sk-hidden--visually {border: 0;clip: rect(1px 1px 1px 1px);clip: rect(1px, 1px, 1px, 1px);height: 1px;margin: -1px;overflow: hidden;padding: 0;position: absolute;width: 1px;}#sk-container-id-8 div.sk-estimator {font-family: monospace;background-color: #f0f8ff;border: 1px dotted black;border-radius: 0.25em;box-sizing: border-box;margin-bottom: 0.5em;}#sk-container-id-8 div.sk-estimator:hover {background-color: #d4ebff;}#sk-container-id-8 div.sk-parallel-item::after {content: \"\";width: 100%;border-bottom: 1px solid gray;flex-grow: 1;}#sk-container-id-8 div.sk-label:hover label.sk-toggleable__label {background-color: #d4ebff;}#sk-container-id-8 div.sk-serial::before {content: \"\";position: absolute;border-left: 1px solid gray;box-sizing: border-box;top: 0;bottom: 0;left: 50%;z-index: 0;}#sk-container-id-8 div.sk-serial {display: flex;flex-direction: column;align-items: center;background-color: white;padding-right: 0.2em;padding-left: 0.2em;position: relative;}#sk-container-id-8 div.sk-item {position: relative;z-index: 1;}#sk-container-id-8 div.sk-parallel {display: flex;align-items: stretch;justify-content: center;background-color: white;position: relative;}#sk-container-id-8 div.sk-item::before, #sk-container-id-8 div.sk-parallel-item::before {content: \"\";position: absolute;border-left: 1px solid gray;box-sizing: border-box;top: 0;bottom: 0;left: 50%;z-index: -1;}#sk-container-id-8 div.sk-parallel-item {display: flex;flex-direction: column;z-index: 1;position: relative;background-color: white;}#sk-container-id-8 div.sk-parallel-item:first-child::after {align-self: flex-end;width: 50%;}#sk-container-id-8 div.sk-parallel-item:last-child::after {align-self: flex-start;width: 50%;}#sk-container-id-8 div.sk-parallel-item:only-child::after {width: 0;}#sk-container-id-8 div.sk-dashed-wrapped {border: 1px dashed gray;margin: 0 0.4em 0.5em 0.4em;box-sizing: border-box;padding-bottom: 0.4em;background-color: white;}#sk-container-id-8 div.sk-label label {font-family: monospace;font-weight: bold;display: inline-block;line-height: 1.2em;}#sk-container-id-8 div.sk-label-container {text-align: center;}#sk-container-id-8 div.sk-container {/* jupyter's `normalize.less` sets `[hidden] { display: none; }` but bootstrap.min.css set `[hidden] { display: none !important; }` so we also need the `!important` here to be able to override the default hidden behavior on the sphinx rendered scikit-learn.org. See: https://github.com/scikit-learn/scikit-learn/issues/21755 */display: inline-block !important;position: relative;}#sk-container-id-8 div.sk-text-repr-fallback {display: none;}</style><div id=\"sk-container-id-8\" class=\"sk-top-container\"><div class=\"sk-text-repr-fallback\"><pre>GradientBoostingClassifier()</pre><b>In a Jupyter environment, please rerun this cell to show the HTML representation or trust the notebook. <br />On GitHub, the HTML representation is unable to render, please try loading this page with nbviewer.org.</b></div><div class=\"sk-container\" hidden><div class=\"sk-item\"><div class=\"sk-estimator sk-toggleable\"><input class=\"sk-toggleable__control sk-hidden--visually\" id=\"sk-estimator-id-8\" type=\"checkbox\" checked><label for=\"sk-estimator-id-8\" class=\"sk-toggleable__label sk-toggleable__label-arrow\">GradientBoostingClassifier</label><div class=\"sk-toggleable__content\"><pre>GradientBoostingClassifier()</pre></div></div></div></div></div>"
            ]
          },
          "metadata": {},
          "execution_count": 29
        }
      ],
      "source": [
        "#Gradient Boosting\n",
        "from sklearn.ensemble import GradientBoostingClassifier\n",
        "gbc = GradientBoostingClassifier()\n",
        "gbc.fit(x_train,y_train)"
      ]
    },
    {
      "cell_type": "code",
      "execution_count": 30,
      "metadata": {
        "colab": {
          "base_uri": "https://localhost:8080/",
          "height": 75
        },
        "id": "MNNjFlid3F_3",
        "outputId": "3f56a317-b363-42ff-978c-c85a23f72601"
      },
      "outputs": [
        {
          "output_type": "execute_result",
          "data": {
            "text/plain": [
              "LGBMClassifier()"
            ],
            "text/html": [
              "<style>#sk-container-id-9 {color: black;background-color: white;}#sk-container-id-9 pre{padding: 0;}#sk-container-id-9 div.sk-toggleable {background-color: white;}#sk-container-id-9 label.sk-toggleable__label {cursor: pointer;display: block;width: 100%;margin-bottom: 0;padding: 0.3em;box-sizing: border-box;text-align: center;}#sk-container-id-9 label.sk-toggleable__label-arrow:before {content: \"▸\";float: left;margin-right: 0.25em;color: #696969;}#sk-container-id-9 label.sk-toggleable__label-arrow:hover:before {color: black;}#sk-container-id-9 div.sk-estimator:hover label.sk-toggleable__label-arrow:before {color: black;}#sk-container-id-9 div.sk-toggleable__content {max-height: 0;max-width: 0;overflow: hidden;text-align: left;background-color: #f0f8ff;}#sk-container-id-9 div.sk-toggleable__content pre {margin: 0.2em;color: black;border-radius: 0.25em;background-color: #f0f8ff;}#sk-container-id-9 input.sk-toggleable__control:checked~div.sk-toggleable__content {max-height: 200px;max-width: 100%;overflow: auto;}#sk-container-id-9 input.sk-toggleable__control:checked~label.sk-toggleable__label-arrow:before {content: \"▾\";}#sk-container-id-9 div.sk-estimator input.sk-toggleable__control:checked~label.sk-toggleable__label {background-color: #d4ebff;}#sk-container-id-9 div.sk-label input.sk-toggleable__control:checked~label.sk-toggleable__label {background-color: #d4ebff;}#sk-container-id-9 input.sk-hidden--visually {border: 0;clip: rect(1px 1px 1px 1px);clip: rect(1px, 1px, 1px, 1px);height: 1px;margin: -1px;overflow: hidden;padding: 0;position: absolute;width: 1px;}#sk-container-id-9 div.sk-estimator {font-family: monospace;background-color: #f0f8ff;border: 1px dotted black;border-radius: 0.25em;box-sizing: border-box;margin-bottom: 0.5em;}#sk-container-id-9 div.sk-estimator:hover {background-color: #d4ebff;}#sk-container-id-9 div.sk-parallel-item::after {content: \"\";width: 100%;border-bottom: 1px solid gray;flex-grow: 1;}#sk-container-id-9 div.sk-label:hover label.sk-toggleable__label {background-color: #d4ebff;}#sk-container-id-9 div.sk-serial::before {content: \"\";position: absolute;border-left: 1px solid gray;box-sizing: border-box;top: 0;bottom: 0;left: 50%;z-index: 0;}#sk-container-id-9 div.sk-serial {display: flex;flex-direction: column;align-items: center;background-color: white;padding-right: 0.2em;padding-left: 0.2em;position: relative;}#sk-container-id-9 div.sk-item {position: relative;z-index: 1;}#sk-container-id-9 div.sk-parallel {display: flex;align-items: stretch;justify-content: center;background-color: white;position: relative;}#sk-container-id-9 div.sk-item::before, #sk-container-id-9 div.sk-parallel-item::before {content: \"\";position: absolute;border-left: 1px solid gray;box-sizing: border-box;top: 0;bottom: 0;left: 50%;z-index: -1;}#sk-container-id-9 div.sk-parallel-item {display: flex;flex-direction: column;z-index: 1;position: relative;background-color: white;}#sk-container-id-9 div.sk-parallel-item:first-child::after {align-self: flex-end;width: 50%;}#sk-container-id-9 div.sk-parallel-item:last-child::after {align-self: flex-start;width: 50%;}#sk-container-id-9 div.sk-parallel-item:only-child::after {width: 0;}#sk-container-id-9 div.sk-dashed-wrapped {border: 1px dashed gray;margin: 0 0.4em 0.5em 0.4em;box-sizing: border-box;padding-bottom: 0.4em;background-color: white;}#sk-container-id-9 div.sk-label label {font-family: monospace;font-weight: bold;display: inline-block;line-height: 1.2em;}#sk-container-id-9 div.sk-label-container {text-align: center;}#sk-container-id-9 div.sk-container {/* jupyter's `normalize.less` sets `[hidden] { display: none; }` but bootstrap.min.css set `[hidden] { display: none !important; }` so we also need the `!important` here to be able to override the default hidden behavior on the sphinx rendered scikit-learn.org. See: https://github.com/scikit-learn/scikit-learn/issues/21755 */display: inline-block !important;position: relative;}#sk-container-id-9 div.sk-text-repr-fallback {display: none;}</style><div id=\"sk-container-id-9\" class=\"sk-top-container\"><div class=\"sk-text-repr-fallback\"><pre>LGBMClassifier()</pre><b>In a Jupyter environment, please rerun this cell to show the HTML representation or trust the notebook. <br />On GitHub, the HTML representation is unable to render, please try loading this page with nbviewer.org.</b></div><div class=\"sk-container\" hidden><div class=\"sk-item\"><div class=\"sk-estimator sk-toggleable\"><input class=\"sk-toggleable__control sk-hidden--visually\" id=\"sk-estimator-id-9\" type=\"checkbox\" checked><label for=\"sk-estimator-id-9\" class=\"sk-toggleable__label sk-toggleable__label-arrow\">LGBMClassifier</label><div class=\"sk-toggleable__content\"><pre>LGBMClassifier()</pre></div></div></div></div></div>"
            ]
          },
          "metadata": {},
          "execution_count": 30
        }
      ],
      "source": [
        "#LightGBM\n",
        "import lightgbm as lgb\n",
        "model_gbm = lgb.LGBMClassifier()\n",
        "model_gbm.fit(x_train,y_train)"
      ]
    },
    {
      "cell_type": "code",
      "execution_count": 31,
      "metadata": {
        "id": "O6g9ZxxXND9w"
      },
      "outputs": [],
      "source": [
        "y_pred_logis= model_logistic.predict(x_test)\n",
        "y_pred_svm=model_svm.predict(x_test)\n",
        "y_pred_knn=model_knn.predict(x_test)\n",
        "y_pred_tree=model_tree.predict(x_test)\n",
        "y_pred_rf=model_random.predict(x_test)\n",
        "y_pred_xg=model_xg.predict(x_test)\n",
        "y_pred_gbc=gbc.predict(x_test)\n",
        "y_pred_gbm=model_gbm.predict(x_test)"
      ]
    },
    {
      "cell_type": "code",
      "execution_count": 32,
      "metadata": {
        "id": "3yQQx4bWNxea"
      },
      "outputs": [],
      "source": [
        "from sklearn.metrics import accuracy_score\n",
        "logistic_acc=accuracy_score(y_test, y_pred_logis)"
      ]
    },
    {
      "cell_type": "code",
      "execution_count": 33,
      "metadata": {
        "id": "akkZYS-TOM_g"
      },
      "outputs": [],
      "source": [
        "from sklearn.metrics import accuracy_score\n",
        "svm_accu=accuracy_score(y_test,y_pred_svm )"
      ]
    },
    {
      "cell_type": "code",
      "execution_count": 34,
      "metadata": {
        "id": "Wbp9qHH0UOcG"
      },
      "outputs": [],
      "source": [
        "from sklearn.metrics import accuracy_score\n",
        "knn_accu=accuracy_score(y_test,y_pred_knn )"
      ]
    },
    {
      "cell_type": "code",
      "execution_count": 35,
      "metadata": {
        "id": "uxD6epgMVvPd"
      },
      "outputs": [],
      "source": [
        "from sklearn.metrics import accuracy_score\n",
        "tree_accu=accuracy_score(y_test,y_pred_tree)"
      ]
    },
    {
      "cell_type": "code",
      "execution_count": 36,
      "metadata": {
        "id": "NTOJf5wGW67I"
      },
      "outputs": [],
      "source": [
        "from sklearn.metrics import accuracy_score\n",
        "rf_accu=accuracy_score(y_test,y_pred_rf)"
      ]
    },
    {
      "cell_type": "code",
      "execution_count": 37,
      "metadata": {
        "id": "O-YlRRcSeaz8"
      },
      "outputs": [],
      "source": [
        "from sklearn.metrics import accuracy_score\n",
        "xg_accu=accuracy_score(y_test,y_pred_xg)"
      ]
    },
    {
      "cell_type": "code",
      "execution_count": 38,
      "metadata": {
        "id": "bOPjewA41K9O"
      },
      "outputs": [],
      "source": [
        "from sklearn.metrics import accuracy_score\n",
        "gbc_accu=accuracy_score(y_test,y_pred_gbc)"
      ]
    },
    {
      "cell_type": "code",
      "execution_count": 39,
      "metadata": {
        "id": "CoXXNK7j328F"
      },
      "outputs": [],
      "source": [
        "from sklearn.metrics import accuracy_score\n",
        "gbm_accu=accuracy_score(y_test,y_pred_gbm)"
      ]
    },
    {
      "cell_type": "code",
      "execution_count": 40,
      "metadata": {
        "colab": {
          "base_uri": "https://localhost:8080/"
        },
        "id": "8qoT6bPsRo6k",
        "outputId": "4bb887cc-0eae-44c7-8d7c-343382a9bbfb"
      },
      "outputs": [
        {
          "output_type": "stream",
          "name": "stdout",
          "text": [
            "0.8524590163934426\n",
            "0.6885245901639344\n",
            "0.639344262295082\n",
            "0.7868852459016393\n",
            "0.8852459016393442\n",
            "0.7868852459016393\n",
            "0.8547854785478548\n",
            "0.8032786885245902\n",
            "0.8360655737704918\n"
          ]
        }
      ],
      "source": [
        "print(logistic_acc)\n",
        "print(svm_accu)\n",
        "print(knn_accu)\n",
        "print(tree_accu)\n",
        "print(rf_accu)\n",
        "print(xg_accu)\n",
        "print(accuracy)\n",
        "print(gbc_accu)\n",
        "print(gbm_accu)"
      ]
    },
    {
      "cell_type": "code",
      "execution_count": 41,
      "metadata": {
        "colab": {
          "base_uri": "https://localhost:8080/",
          "height": 524
        },
        "id": "MweE-K8g-aQq",
        "outputId": "3ef31b66-a6ee-4c37-cb0c-2f7b90e301d0"
      },
      "outputs": [
        {
          "output_type": "execute_result",
          "data": {
            "text/plain": [
              "Text(0, 0.5, 'Accuracy')"
            ]
          },
          "metadata": {},
          "execution_count": 41
        },
        {
          "output_type": "display_data",
          "data": {
            "text/plain": [
              "<Figure size 1500x700 with 1 Axes>"
            ],
            "image/png": "[encoded data removed]"
          },
          "metadata": {}
        }
      ],
      "source": [
        "plt.figure(figsize=(15,7))\n",
        "plt.bar(\"Logistic Regression\", logistic_acc, width=0.2)\n",
        "plt.bar(\"SVM\", svm_accu, width=0.2)\n",
        "plt.bar(\"Neural Networks\",accuracy, width=0.2)\n",
        "plt.bar(\"KNN\",knn_accu,width=0.2)\n",
        "plt.bar(\"Decision Tree\", tree_accu,width=0.2)\n",
        "plt.bar(\"RF\", rf_accu,width=0.2)\n",
        "plt.bar(\"XGBoost\", xg_accu,width=0.2)\n",
        "plt.bar(\"Gradient Boosting\", gbc_accu,width=0.2)\n",
        "plt.bar(\"LGBM\",gbm_accu,width=0.2)\n",
        "plt.xlabel('Machine Learning Algorithms')\n",
        "plt.ylabel('Accuracy')"
      ]
    },
    {
      "cell_type": "code",
      "execution_count": 42,
      "metadata": {
        "id": "UH1-lHtgAKTv",
        "colab": {
          "base_uri": "https://localhost:8080/"
        },
        "outputId": "3c2fc76f-7217-450e-e084-54e95c1c2356"
      },
      "outputs": [
        {
          "output_type": "stream",
          "name": "stderr",
          "text": [
            "/usr/local/lib/python3.10/dist-packages/sklearn/base.py:439: UserWarning: X does not have valid feature names, but SVC was fitted with feature names\n",
            "  warnings.warn(\n"
          ]
        }
      ],
      "source": [
        "result= model_svm.predict([[42,1,0,140,226,0,1,178,0,0,2,0,2]])\n"
      ]
    },
    {
      "cell_type": "code",
      "execution_count": 44,
      "metadata": {
        "colab": {
          "base_uri": "https://localhost:8080/"
        },
        "id": "M4juDxxECvBR",
        "outputId": "d7ab37c5-fbe6-47ce-ec13-4f241839da0b"
      },
      "outputs": [
        {
          "output_type": "stream",
          "name": "stdout",
          "text": [
            "person have a heart Disease\n"
          ]
        }
      ],
      "source": [
        "if result==[0]:\n",
        "  print(\"person not having heart Disease\")\n",
        "else:\n",
        "  print(\"person have a heart Disease\")"
      ]
    },
    {
      "cell_type": "code",
      "source": [
        "\n",
        "rslt= model_svm.predict([[59,1,0,140,177,0,1,162,1,0,2,1,3]])"
      ],
      "metadata": {
        "colab": {
          "base_uri": "https://localhost:8080/"
        },
        "id": "JEfejh-KB6Wm",
        "outputId": "721fea8e-9387-4bd4-9235-a2d54ce966e9"
      },
      "execution_count": 45,
      "outputs": [
        {
          "output_type": "stream",
          "name": "stderr",
          "text": [
            "/usr/local/lib/python3.10/dist-packages/sklearn/base.py:439: UserWarning: X does not have valid feature names, but SVC was fitted with feature names\n",
            "  warnings.warn(\n"
          ]
        }
      ]
    },
    {
      "cell_type": "code",
      "source": [
        "if rslt==[0]:\n",
        "  print(\"person not having heart Disease\")\n",
        "else:\n",
        "  print(\"person have a heart Disease\")"
      ],
      "metadata": {
        "colab": {
          "base_uri": "https://localhost:8080/"
        },
        "id": "FrF0vbCDCB88",
        "outputId": "df22e8f1-30fd-40bf-f787-0d64bc4428be"
      },
      "execution_count": 46,
      "outputs": [
        {
          "output_type": "stream",
          "name": "stdout",
          "text": [
            "person have a heart Disease\n"
          ]
        }
      ]
    }
  ],
  "metadata": {
    "colab": {
      "provenance": [],
      "authorship_tag": "ABX9TyOdRVPYjkvgew1/8xfknUe0",
      "include_colab_link": true
    },
    "kernelspec": {
      "display_name": "Python 3",
      "name": "python3"
    },
    "language_info": {
      "name": "python"
    }
  },
  "nbformat": 4,
  "nbformat_minor": 0
}